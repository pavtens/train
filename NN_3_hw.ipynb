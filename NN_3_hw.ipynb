{
 "cells": [
  {
   "cell_type": "code",
   "execution_count": 2,
   "metadata": {},
   "outputs": [],
   "source": [
    "import torch\n",
    "import torch.nn as nn\n",
    "import torchvision.models as models\n",
    "from torchvision import datasets\n",
    "from torch.utils.data import DataLoader\n",
    "import numpy\n",
    "import matplotlib.pyplot as plt"
   ]
  },
  {
   "cell_type": "code",
   "execution_count": 3,
   "metadata": {},
   "outputs": [],
   "source": [
    "dataset = datasets.MNIST('/Users/a14419009/Repos/NN_reload_stream2', download=True)\n",
    "\n",
    "def collate_fn(data):\n",
    "    pics = []\n",
    "    target = []\n",
    "    for item in data:\n",
    "\n",
    "        pics.append(numpy.array(item[0]))\n",
    "        target.append(item[1])\n",
    "    return {\n",
    "        'data': torch.from_numpy(numpy.array(pics)).float() / 255,\n",
    "        'target': torch.from_numpy(numpy.array(target)),\n",
    "    }"
   ]
  },
  {
   "cell_type": "code",
   "execution_count": 4,
   "metadata": {},
   "outputs": [],
   "source": [
    "#hyper params\n",
    "num_epoch = 1\n",
    "cuda_device = -1\n",
    "batch_size = 222\n",
    "device = f'cuda:{cuda_device}' if cuda_device != -1 else 'cpu'"
   ]
  },
  {
   "cell_type": "markdown",
   "metadata": {},
   "source": [
    "AutoEncoder"
   ]
  },
  {
   "cell_type": "code",
   "execution_count": 5,
   "metadata": {},
   "outputs": [],
   "source": [
    "class Encoder(nn.Module):\n",
    "    # 28*28 -> hidden -> out\n",
    "    def __init__(self, in_chan, hidden_ch, out_channels):\n",
    "        super().__init__()\n",
    "        #conv2d -> maxpool2d -> conv2d -> maxpool2d -> conv2d\n",
    "        self.conv1 = nn.Conv2d(in_chan, hidden_ch, kernel_size=5, stride=1, padding=2) # 28 x 28\n",
    "        self.pool1 = nn.MaxPool2d(4, 4) # 14 x 14\n",
    "        #self.conv2 = nn.Conv2d(hidden_ch, hidden_ch, kernel_size=3, stride=1, padding=1)  # 14 x 14\n",
    "        #self.pool2 = nn.MaxPool2d(2, 2)  # 7 x 7\n",
    "        self.conv3 = nn.Conv2d(hidden_ch, out_channels, kernel_size=3, stride=1, padding=1)\n",
    "\n",
    "        self.activation = nn.ReLU()\n",
    "\n",
    "    def forward(self, x): # -> 7x7\n",
    "        x = self.activation(self.pool1(self.conv1(x)))\n",
    "        #x = self.activation(self.pool2(self.conv2(x)))\n",
    "        x = self.activation(self.conv3(x))\n",
    "\n",
    "        return x\n",
    "\n",
    "class Decoder(nn.Module):\n",
    "    #conv2d -> upsampling2d -> conv2d -> upsampling2d -> conv2d\n",
    "    def __init__(self, in_chan, hidden_ch, out_chan):\n",
    "        super().__init__()\n",
    "        self.conv1 = nn.Conv2d(in_chan, hidden_ch, kernel_size=3, stride=1, padding=1)  # 7 x 7\n",
    "        self.upsample1 = nn.UpsamplingNearest2d(scale_factor=4)  # 14 x 14\n",
    "        #self.conv2 = nn.Conv2d(hidden_ch, hidden_ch, kernel_size=3, stride=1, padding=1)  # 14 x 14\n",
    "        #self.upsample2 = nn.UpsamplingNearest2d(scale_factor=2)  # 28 x 28\n",
    "        self.conv3 = nn.Conv2d(hidden_ch, out_chan, kernel_size=5, stride=1, padding=2)\n",
    "\n",
    "        self.activation = nn.ReLU()\n",
    "\n",
    "    def forward(self, x): # -> 28 x 28\n",
    "        x = self.activation(self.upsample1(self.conv1(x)))\n",
    "        #x = self.activation(self.upsample2(self.conv2(x)))\n",
    "        x = self.activation(self.conv3(x))\n",
    "\n",
    "        return x"
   ]
  },
  {
   "cell_type": "code",
   "execution_count": 6,
   "metadata": {},
   "outputs": [],
   "source": [
    "class AutoEncoder(nn.Module):\n",
    "    def __init__(self, input_ch, enc_hidden_ch, dec_hidden_ch, latent_ch):\n",
    "        super().__init__()\n",
    "        self.encoder = Encoder(input_ch, enc_hidden_ch, latent_ch)\n",
    "        self.decoder = Decoder(latent_ch, dec_hidden_ch, input_ch)\n",
    "\n",
    "    def forward(self, x):\n",
    "        x = self.encoder(x)\n",
    "        x = self.decoder(x)\n",
    "\n",
    "        return x"
   ]
  },
  {
   "cell_type": "code",
   "execution_count": 7,
   "metadata": {},
   "outputs": [],
   "source": [
    "model = AutoEncoder(1, 50, 40, 1)\n",
    "model.train()\n",
    "model.to(device)\n",
    "\n",
    "optim = torch.optim.Adam(model.parameters(), lr=0.001)\n",
    "loss_func = nn.MSELoss()"
   ]
  },
  {
   "cell_type": "code",
   "execution_count": 8,
   "metadata": {},
   "outputs": [
    {
     "name": "stdout",
     "output_type": "stream",
     "text": [
      "tensor(0.1054, grad_fn=<MseLossBackward0>)\n",
      "tensor(0.0252, grad_fn=<MseLossBackward0>)\n",
      "tensor(0.0191, grad_fn=<MseLossBackward0>)\n",
      "epoch: 0\n",
      "tensor(0.0175, grad_fn=<MseLossBackward0>)\n",
      "tensor(0.0166, grad_fn=<MseLossBackward0>)\n",
      "tensor(0.0165, grad_fn=<MseLossBackward0>)\n",
      "epoch: 1\n",
      "tensor(0.0160, grad_fn=<MseLossBackward0>)\n",
      "tensor(0.0144, grad_fn=<MseLossBackward0>)\n",
      "tensor(0.0140, grad_fn=<MseLossBackward0>)\n",
      "epoch: 2\n",
      "tensor(0.0146, grad_fn=<MseLossBackward0>)\n",
      "tensor(0.0133, grad_fn=<MseLossBackward0>)\n",
      "tensor(0.0134, grad_fn=<MseLossBackward0>)\n",
      "epoch: 3\n",
      "tensor(0.0128, grad_fn=<MseLossBackward0>)\n",
      "tensor(0.0130, grad_fn=<MseLossBackward0>)\n",
      "tensor(0.0122, grad_fn=<MseLossBackward0>)\n",
      "epoch: 4\n",
      "tensor(0.0123, grad_fn=<MseLossBackward0>)\n",
      "tensor(0.0133, grad_fn=<MseLossBackward0>)\n",
      "tensor(0.0124, grad_fn=<MseLossBackward0>)\n",
      "epoch: 5\n",
      "tensor(0.0121, grad_fn=<MseLossBackward0>)\n",
      "tensor(0.0113, grad_fn=<MseLossBackward0>)\n",
      "tensor(0.0111, grad_fn=<MseLossBackward0>)\n",
      "epoch: 6\n",
      "tensor(0.0117, grad_fn=<MseLossBackward0>)\n",
      "tensor(0.0108, grad_fn=<MseLossBackward0>)\n",
      "tensor(0.0114, grad_fn=<MseLossBackward0>)\n",
      "epoch: 7\n",
      "tensor(0.0110, grad_fn=<MseLossBackward0>)\n",
      "tensor(0.0116, grad_fn=<MseLossBackward0>)\n",
      "tensor(0.0112, grad_fn=<MseLossBackward0>)\n",
      "epoch: 8\n",
      "tensor(0.0111, grad_fn=<MseLossBackward0>)\n",
      "tensor(0.0099, grad_fn=<MseLossBackward0>)\n",
      "tensor(0.0113, grad_fn=<MseLossBackward0>)\n",
      "epoch: 9\n"
     ]
    }
   ],
   "source": [
    "for epoch in range(10):\n",
    "    dataloader = DataLoader(\n",
    "        dataset=dataset,\n",
    "        collate_fn=collate_fn,\n",
    "        batch_size=batch_size,\n",
    "        shuffle=True,\n",
    "        drop_last=True,\n",
    "    )\n",
    "    for step, batch in enumerate(dataloader):\n",
    "        data = batch['data'].to(device).unsqueeze(1)\n",
    "        optim.zero_grad()\n",
    "        predict = model(data)\n",
    "        loss = loss_func(predict, data)\n",
    "        loss.backward()\n",
    "        optim.step()\n",
    "        if (step % 100 == 0):\n",
    "            print(loss)\n",
    "    print(f'epoch: {epoch}')"
   ]
  },
  {
   "cell_type": "code",
   "execution_count": 9,
   "metadata": {},
   "outputs": [
    {
     "data": {
      "text/plain": [
       "tensor([[[[0.0000, 0.0000, 0.0000, 0.0000, 0.0000, 0.0000, 0.0000, 0.0000,\n",
       "           0.0000, 0.0000, 0.0000, 0.0000, 0.0000, 0.0000, 0.0000, 0.0000,\n",
       "           0.0000, 0.0000, 0.0000, 0.0000, 0.0000, 0.0000, 0.0000, 0.0000,\n",
       "           0.0000, 0.0000, 0.0000, 0.0000],\n",
       "          [0.0000, 0.0000, 0.0000, 0.0000, 0.0000, 0.0000, 0.0000, 0.0000,\n",
       "           0.0000, 0.0000, 0.0000, 0.0000, 0.0000, 0.0000, 0.0000, 0.0000,\n",
       "           0.0000, 0.0000, 0.0000, 0.0000, 0.0000, 0.0000, 0.0000, 0.0000,\n",
       "           0.0000, 0.0000, 0.0000, 0.0000],\n",
       "          [0.0000, 0.0000, 0.0000, 0.0000, 0.0000, 0.0000, 0.0000, 0.0000,\n",
       "           0.0000, 0.0000, 0.0000, 0.0000, 0.0000, 0.0000, 0.0000, 0.0000,\n",
       "           0.0000, 0.0000, 0.0000, 0.0000, 0.0000, 0.0000, 0.0000, 0.0000,\n",
       "           0.0000, 0.0000, 0.0000, 0.0000],\n",
       "          [0.0000, 0.0000, 0.0000, 0.0000, 0.0000, 0.0000, 0.0000, 0.0000,\n",
       "           0.0000, 0.0000, 0.0000, 0.0000, 0.0000, 0.0000, 0.0000, 0.0000,\n",
       "           0.0000, 0.0000, 0.0000, 0.0000, 0.0000, 0.0000, 0.0000, 0.0000,\n",
       "           0.0000, 0.0000, 0.0000, 0.0000],\n",
       "          [0.0000, 0.0000, 0.0000, 0.0000, 0.0000, 0.0000, 0.0000, 0.0000,\n",
       "           0.0000, 0.0000, 0.0000, 0.0000, 0.5110, 0.6649, 0.0000, 0.0000,\n",
       "           0.0000, 0.0000, 0.0000, 0.0000, 0.0000, 0.0000, 0.0000, 0.0000,\n",
       "           0.0000, 0.0000, 0.0000, 0.0000],\n",
       "          [0.0000, 0.0000, 0.0000, 0.0000, 0.0000, 0.0000, 0.0000, 0.0000,\n",
       "           0.0000, 0.0000, 0.0000, 0.2805, 0.9829, 1.1666, 0.6336, 0.0000,\n",
       "           0.0000, 0.0000, 0.0000, 0.0000, 0.0000, 0.0000, 0.0000, 0.0000,\n",
       "           0.0000, 0.0000, 0.0000, 0.0000],\n",
       "          [0.0000, 0.0000, 0.0000, 0.0000, 0.0000, 0.0000, 0.0000, 0.0000,\n",
       "           0.0000, 0.0000, 0.0000, 0.4032, 1.0146, 1.1848, 0.7662, 0.0081,\n",
       "           0.0000, 0.0000, 0.0000, 0.0000, 0.0000, 0.0000, 0.0000, 0.0000,\n",
       "           0.0000, 0.0000, 0.0000, 0.0000],\n",
       "          [0.0000, 0.0000, 0.0000, 0.0000, 0.0000, 0.0000, 0.0000, 0.0000,\n",
       "           0.0000, 0.0000, 0.0000, 0.2477, 0.9389, 1.2291, 0.8884, 0.2020,\n",
       "           0.0000, 0.0000, 0.0000, 0.0000, 0.0000, 0.0000, 0.0000, 0.0000,\n",
       "           0.0000, 0.0000, 0.0000, 0.0000],\n",
       "          [0.0000, 0.0000, 0.0000, 0.0000, 0.0000, 0.0000, 0.0000, 0.0000,\n",
       "           0.0000, 0.0000, 0.0000, 0.0752, 0.8479, 1.2299, 0.9769, 0.3122,\n",
       "           0.0000, 0.0000, 0.0000, 0.0000, 0.0000, 0.0000, 0.0000, 0.0000,\n",
       "           0.0000, 0.0000, 0.0000, 0.0000],\n",
       "          [0.0000, 0.0000, 0.0000, 0.0000, 0.0000, 0.0000, 0.0000, 0.0000,\n",
       "           0.0000, 0.0000, 0.0000, 0.0000, 0.7873, 1.2186, 1.0198, 0.3844,\n",
       "           0.0000, 0.0000, 0.0000, 0.0000, 0.0000, 0.0000, 0.0000, 0.0000,\n",
       "           0.0000, 0.0000, 0.0000, 0.0000],\n",
       "          [0.0000, 0.0000, 0.0000, 0.0000, 0.0000, 0.0000, 0.0000, 0.0000,\n",
       "           0.0000, 0.0000, 0.0000, 0.0000, 0.6042, 1.0550, 0.9481, 0.3531,\n",
       "           0.0000, 0.0000, 0.0000, 0.0000, 0.0000, 0.0000, 0.0000, 0.0000,\n",
       "           0.0000, 0.0000, 0.0000, 0.0000],\n",
       "          [0.0000, 0.0000, 0.0000, 0.0000, 0.0000, 0.0000, 0.0000, 0.0000,\n",
       "           0.0000, 0.0000, 0.0000, 0.0000, 0.6633, 1.1154, 0.9965, 0.3730,\n",
       "           0.0000, 0.0000, 0.0000, 0.0000, 0.0000, 0.0000, 0.0000, 0.0000,\n",
       "           0.0000, 0.0000, 0.0000, 0.0000],\n",
       "          [0.0000, 0.0000, 0.0000, 0.0000, 0.0000, 0.0000, 0.0000, 0.0000,\n",
       "           0.0000, 0.0000, 0.0000, 0.0000, 0.7871, 1.2248, 1.0168, 0.3954,\n",
       "           0.0000, 0.0000, 0.0000, 0.0000, 0.0000, 0.0000, 0.0000, 0.0000,\n",
       "           0.0000, 0.0000, 0.0000, 0.0000],\n",
       "          [0.0000, 0.0000, 0.0000, 0.0000, 0.0000, 0.0000, 0.0000, 0.0000,\n",
       "           0.0000, 0.0000, 0.0000, 0.0000, 0.8105, 1.2136, 1.0261, 0.4764,\n",
       "           0.0000, 0.0000, 0.0000, 0.0000, 0.0000, 0.0000, 0.0000, 0.0000,\n",
       "           0.0000, 0.0000, 0.0000, 0.0000],\n",
       "          [0.0000, 0.0000, 0.0000, 0.0000, 0.0000, 0.0000, 0.0000, 0.0000,\n",
       "           0.0000, 0.0000, 0.0000, 0.0000, 0.6900, 1.0913, 1.0661, 0.6643,\n",
       "           0.0000, 0.0000, 0.0000, 0.0000, 0.0000, 0.0000, 0.0000, 0.0000,\n",
       "           0.0000, 0.0000, 0.0000, 0.0000],\n",
       "          [0.0000, 0.0000, 0.0000, 0.0000, 0.0000, 0.0000, 0.0000, 0.0000,\n",
       "           0.0000, 0.0000, 0.0000, 0.0000, 0.5810, 1.0278, 1.0624, 0.8061,\n",
       "           0.2004, 0.0000, 0.0000, 0.0000, 0.0000, 0.0000, 0.0000, 0.0000,\n",
       "           0.0000, 0.0000, 0.0000, 0.0000],\n",
       "          [0.0000, 0.0000, 0.0000, 0.0000, 0.0000, 0.0000, 0.0000, 0.0000,\n",
       "           0.0000, 0.0000, 0.0000, 0.0000, 0.3518, 0.8653, 1.0009, 0.9347,\n",
       "           0.4799, 0.0000, 0.0000, 0.0000, 0.0000, 0.0000, 0.0000, 0.0000,\n",
       "           0.0000, 0.0000, 0.0000, 0.0000],\n",
       "          [0.0000, 0.0000, 0.0000, 0.0000, 0.0000, 0.0000, 0.0000, 0.0000,\n",
       "           0.0000, 0.0000, 0.0000, 0.0000, 0.1242, 0.6870, 0.9450, 1.0404,\n",
       "           0.7432, 0.0000, 0.0000, 0.0000, 0.0000, 0.0000, 0.0000, 0.0000,\n",
       "           0.0000, 0.0000, 0.0000, 0.0000],\n",
       "          [0.0000, 0.0000, 0.0000, 0.0000, 0.0000, 0.0000, 0.0000, 0.0000,\n",
       "           0.0000, 0.0000, 0.0000, 0.0000, 0.1644, 0.7813, 1.0179, 1.1198,\n",
       "           0.8321, 0.0488, 0.0000, 0.0000, 0.0000, 0.0000, 0.0000, 0.0000,\n",
       "           0.0000, 0.0000, 0.0000, 0.0000],\n",
       "          [0.0000, 0.0000, 0.0000, 0.0000, 0.0000, 0.0000, 0.0000, 0.0000,\n",
       "           0.0000, 0.0000, 0.0000, 0.0000, 0.0000, 0.6283, 0.9422, 1.1278,\n",
       "           0.9273, 0.1947, 0.0000, 0.0000, 0.0000, 0.0000, 0.0000, 0.0000,\n",
       "           0.0000, 0.0000, 0.0000, 0.0000],\n",
       "          [0.0000, 0.0000, 0.0000, 0.0000, 0.0000, 0.0000, 0.0000, 0.0000,\n",
       "           0.0000, 0.0000, 0.0000, 0.0000, 0.0000, 0.5065, 0.9274, 1.2155,\n",
       "           1.1074, 0.4098, 0.0000, 0.0000, 0.0000, 0.0000, 0.0000, 0.0000,\n",
       "           0.0000, 0.0000, 0.0000, 0.0000],\n",
       "          [0.0000, 0.0000, 0.0000, 0.0000, 0.0000, 0.0000, 0.0000, 0.0000,\n",
       "           0.0000, 0.0000, 0.0000, 0.0000, 0.0000, 0.4220, 0.9235, 1.2307,\n",
       "           1.1935, 0.5267, 0.0000, 0.0000, 0.0000, 0.0000, 0.0000, 0.0000,\n",
       "           0.0000, 0.0000, 0.0000, 0.0000],\n",
       "          [0.0000, 0.0000, 0.0000, 0.0000, 0.0000, 0.0000, 0.0000, 0.0000,\n",
       "           0.0000, 0.0000, 0.0000, 0.0000, 0.0000, 0.3065, 0.8880, 1.1720,\n",
       "           1.0182, 0.2936, 0.0000, 0.0000, 0.0000, 0.0000, 0.0000, 0.0000,\n",
       "           0.0000, 0.0000, 0.0000, 0.0000],\n",
       "          [0.0000, 0.0000, 0.0000, 0.0000, 0.0000, 0.0000, 0.0000, 0.0000,\n",
       "           0.0000, 0.0000, 0.0000, 0.0000, 0.0000, 0.0000, 0.5235, 0.7101,\n",
       "           0.4718, 0.0000, 0.0000, 0.0000, 0.0000, 0.0000, 0.0000, 0.0000,\n",
       "           0.0000, 0.0000, 0.0000, 0.0000],\n",
       "          [0.0000, 0.0000, 0.0000, 0.0000, 0.0000, 0.0000, 0.0000, 0.0000,\n",
       "           0.0000, 0.0000, 0.0000, 0.0000, 0.0000, 0.0000, 0.0000, 0.0000,\n",
       "           0.0000, 0.0000, 0.0000, 0.0000, 0.0000, 0.0000, 0.0000, 0.0000,\n",
       "           0.0000, 0.0000, 0.0000, 0.0000],\n",
       "          [0.0000, 0.0000, 0.0000, 0.0000, 0.0000, 0.0000, 0.0000, 0.0000,\n",
       "           0.0000, 0.0000, 0.0000, 0.0000, 0.0000, 0.0000, 0.0000, 0.0000,\n",
       "           0.0000, 0.0000, 0.0000, 0.0000, 0.0000, 0.0000, 0.0000, 0.0000,\n",
       "           0.0000, 0.0000, 0.0000, 0.0000],\n",
       "          [0.0000, 0.0000, 0.0000, 0.0000, 0.0000, 0.0000, 0.0000, 0.0000,\n",
       "           0.0000, 0.0000, 0.0000, 0.0000, 0.0000, 0.0000, 0.0000, 0.0000,\n",
       "           0.0000, 0.0000, 0.0000, 0.0000, 0.0000, 0.0000, 0.0000, 0.0000,\n",
       "           0.0000, 0.0000, 0.0000, 0.0000],\n",
       "          [0.0000, 0.0000, 0.0000, 0.0000, 0.0000, 0.0000, 0.0000, 0.0000,\n",
       "           0.0000, 0.0000, 0.0000, 0.0000, 0.0000, 0.0000, 0.0000, 0.0000,\n",
       "           0.0000, 0.0000, 0.0000, 0.0000, 0.0000, 0.0000, 0.0000, 0.0000,\n",
       "           0.0000, 0.0000, 0.0000, 0.0000]]]])"
      ]
     },
     "execution_count": 9,
     "metadata": {},
     "output_type": "execute_result"
    }
   ],
   "source": [
    "model.train()\n",
    "\n",
    "with torch.no_grad():\n",
    "    model.eval()\n",
    "    test = dataset.data[200].unsqueeze(0).unsqueeze(0).float() / 255\n",
    "    predict = model(test)\n",
    "\n",
    "predict"
   ]
  },
  {
   "cell_type": "code",
   "execution_count": 10,
   "metadata": {},
   "outputs": [
    {
     "data": {
      "image/png": "[encoded data removed]",
      "text/plain": [
       "<Figure size 432x288 with 1 Axes>"
      ]
     },
     "metadata": {
      "needs_background": "light"
     },
     "output_type": "display_data"
    }
   ],
   "source": [
    "sample = predict.view(torch.squeeze(predict).size())\n",
    "\n",
    "plt.imshow(sample.detach().numpy()/255)\n",
    "plt.show()"
   ]
  },
  {
   "cell_type": "code",
   "execution_count": 12,
   "metadata": {},
   "outputs": [
    {
     "data": {
      "image/png": "[encoded data removed]",
      "text/plain": [
       "<Figure size 432x288 with 1 Axes>"
      ]
     },
     "metadata": {
      "needs_background": "light"
     },
     "output_type": "display_data"
    }
   ],
   "source": [
    "plt.imshow(dataset.data[200].detach().numpy())\n",
    "plt.show()"
   ]
  },
  {
   "cell_type": "markdown",
   "metadata": {},
   "source": [
    "AE denoising"
   ]
  },
  {
   "cell_type": "code",
   "execution_count": 13,
   "metadata": {},
   "outputs": [],
   "source": [
    "model_1 = AutoEncoder(1, 50, 40, 1)\n",
    "model_1.train()\n",
    "model_1.to(device)\n",
    "\n",
    "optim_1 = torch.optim.Adam(model_1.parameters(), lr=0.001)\n",
    "loss_func_1 = nn.MSELoss()"
   ]
  },
  {
   "cell_type": "code",
   "execution_count": 14,
   "metadata": {},
   "outputs": [
    {
     "name": "stdout",
     "output_type": "stream",
     "text": [
      "tensor(0.1124, grad_fn=<MseLossBackward0>)\n",
      "tensor(0.1132, grad_fn=<MseLossBackward0>)\n",
      "tensor(0.1146, grad_fn=<MseLossBackward0>)\n",
      "epoch: 0\n",
      "tensor(0.1108, grad_fn=<MseLossBackward0>)\n",
      "tensor(0.1109, grad_fn=<MseLossBackward0>)\n",
      "tensor(0.1090, grad_fn=<MseLossBackward0>)\n",
      "epoch: 1\n",
      "tensor(0.1068, grad_fn=<MseLossBackward0>)\n",
      "tensor(0.1076, grad_fn=<MseLossBackward0>)\n",
      "tensor(0.1162, grad_fn=<MseLossBackward0>)\n",
      "epoch: 2\n",
      "tensor(0.1073, grad_fn=<MseLossBackward0>)\n",
      "tensor(0.1123, grad_fn=<MseLossBackward0>)\n",
      "tensor(0.1067, grad_fn=<MseLossBackward0>)\n",
      "epoch: 3\n",
      "tensor(0.1137, grad_fn=<MseLossBackward0>)\n",
      "tensor(0.1107, grad_fn=<MseLossBackward0>)\n",
      "tensor(0.1100, grad_fn=<MseLossBackward0>)\n",
      "epoch: 4\n",
      "tensor(0.1090, grad_fn=<MseLossBackward0>)\n",
      "tensor(0.1138, grad_fn=<MseLossBackward0>)\n",
      "tensor(0.1076, grad_fn=<MseLossBackward0>)\n",
      "epoch: 5\n",
      "tensor(0.1172, grad_fn=<MseLossBackward0>)\n",
      "tensor(0.1145, grad_fn=<MseLossBackward0>)\n",
      "tensor(0.1134, grad_fn=<MseLossBackward0>)\n",
      "epoch: 6\n",
      "tensor(0.1109, grad_fn=<MseLossBackward0>)\n",
      "tensor(0.1150, grad_fn=<MseLossBackward0>)\n",
      "tensor(0.1085, grad_fn=<MseLossBackward0>)\n",
      "epoch: 7\n",
      "tensor(0.1118, grad_fn=<MseLossBackward0>)\n",
      "tensor(0.1127, grad_fn=<MseLossBackward0>)\n",
      "tensor(0.1098, grad_fn=<MseLossBackward0>)\n",
      "epoch: 8\n",
      "tensor(0.1088, grad_fn=<MseLossBackward0>)\n",
      "tensor(0.1133, grad_fn=<MseLossBackward0>)\n",
      "tensor(0.1106, grad_fn=<MseLossBackward0>)\n",
      "epoch: 9\n"
     ]
    }
   ],
   "source": [
    "for epoch in range(10):\n",
    "    dataloader = DataLoader(\n",
    "        dataset=dataset,\n",
    "        collate_fn=collate_fn,\n",
    "        batch_size=batch_size,\n",
    "        shuffle=True,\n",
    "        drop_last=True,\n",
    "    )\n",
    "    for step, batch in enumerate(dataloader):\n",
    "        data = batch['data'].to(device).unsqueeze(1)\n",
    "        data_noized = torch.clamp(data + 0.5 * torch.normal(torch.zeros_like(data), torch.ones_like(data)), 0., 1.)\n",
    "        optim_1.zero_grad()\n",
    "        predict = model_1(data_noized)\n",
    "        loss = loss_func_1(predict, data)\n",
    "        loss.backward()\n",
    "        optim_1.step()\n",
    "        if (step % 100 == 0):\n",
    "            print(loss)\n",
    "    print(f'epoch: {epoch}')"
   ]
  },
  {
   "cell_type": "code",
   "execution_count": 15,
   "metadata": {},
   "outputs": [
    {
     "data": {
      "text/plain": [
       "tensor([[[[0., 0., 0., 0., 0., 0., 0., 0., 0., 0., 0., 0., 0., 0., 0., 0., 0., 0., 0., 0., 0., 0., 0.,\n",
       "           0., 0., 0., 0., 0.],\n",
       "          [0., 0., 0., 0., 0., 0., 0., 0., 0., 0., 0., 0., 0., 0., 0., 0., 0., 0., 0., 0., 0., 0., 0.,\n",
       "           0., 0., 0., 0., 0.],\n",
       "          [0., 0., 0., 0., 0., 0., 0., 0., 0., 0., 0., 0., 0., 0., 0., 0., 0., 0., 0., 0., 0., 0., 0.,\n",
       "           0., 0., 0., 0., 0.],\n",
       "          [0., 0., 0., 0., 0., 0., 0., 0., 0., 0., 0., 0., 0., 0., 0., 0., 0., 0., 0., 0., 0., 0., 0.,\n",
       "           0., 0., 0., 0., 0.],\n",
       "          [0., 0., 0., 0., 0., 0., 0., 0., 0., 0., 0., 0., 0., 0., 0., 0., 0., 0., 0., 0., 0., 0., 0.,\n",
       "           0., 0., 0., 0., 0.],\n",
       "          [0., 0., 0., 0., 0., 0., 0., 0., 0., 0., 0., 0., 0., 0., 0., 0., 0., 0., 0., 0., 0., 0., 0.,\n",
       "           0., 0., 0., 0., 0.],\n",
       "          [0., 0., 0., 0., 0., 0., 0., 0., 0., 0., 0., 0., 0., 0., 0., 0., 0., 0., 0., 0., 0., 0., 0.,\n",
       "           0., 0., 0., 0., 0.],\n",
       "          [0., 0., 0., 0., 0., 0., 0., 0., 0., 0., 0., 0., 0., 0., 0., 0., 0., 0., 0., 0., 0., 0., 0.,\n",
       "           0., 0., 0., 0., 0.],\n",
       "          [0., 0., 0., 0., 0., 0., 0., 0., 0., 0., 0., 0., 0., 0., 0., 0., 0., 0., 0., 0., 0., 0., 0.,\n",
       "           0., 0., 0., 0., 0.],\n",
       "          [0., 0., 0., 0., 0., 0., 0., 0., 0., 0., 0., 0., 0., 0., 0., 0., 0., 0., 0., 0., 0., 0., 0.,\n",
       "           0., 0., 0., 0., 0.],\n",
       "          [0., 0., 0., 0., 0., 0., 0., 0., 0., 0., 0., 0., 0., 0., 0., 0., 0., 0., 0., 0., 0., 0., 0.,\n",
       "           0., 0., 0., 0., 0.],\n",
       "          [0., 0., 0., 0., 0., 0., 0., 0., 0., 0., 0., 0., 0., 0., 0., 0., 0., 0., 0., 0., 0., 0., 0.,\n",
       "           0., 0., 0., 0., 0.],\n",
       "          [0., 0., 0., 0., 0., 0., 0., 0., 0., 0., 0., 0., 0., 0., 0., 0., 0., 0., 0., 0., 0., 0., 0.,\n",
       "           0., 0., 0., 0., 0.],\n",
       "          [0., 0., 0., 0., 0., 0., 0., 0., 0., 0., 0., 0., 0., 0., 0., 0., 0., 0., 0., 0., 0., 0., 0.,\n",
       "           0., 0., 0., 0., 0.],\n",
       "          [0., 0., 0., 0., 0., 0., 0., 0., 0., 0., 0., 0., 0., 0., 0., 0., 0., 0., 0., 0., 0., 0., 0.,\n",
       "           0., 0., 0., 0., 0.],\n",
       "          [0., 0., 0., 0., 0., 0., 0., 0., 0., 0., 0., 0., 0., 0., 0., 0., 0., 0., 0., 0., 0., 0., 0.,\n",
       "           0., 0., 0., 0., 0.],\n",
       "          [0., 0., 0., 0., 0., 0., 0., 0., 0., 0., 0., 0., 0., 0., 0., 0., 0., 0., 0., 0., 0., 0., 0.,\n",
       "           0., 0., 0., 0., 0.],\n",
       "          [0., 0., 0., 0., 0., 0., 0., 0., 0., 0., 0., 0., 0., 0., 0., 0., 0., 0., 0., 0., 0., 0., 0.,\n",
       "           0., 0., 0., 0., 0.],\n",
       "          [0., 0., 0., 0., 0., 0., 0., 0., 0., 0., 0., 0., 0., 0., 0., 0., 0., 0., 0., 0., 0., 0., 0.,\n",
       "           0., 0., 0., 0., 0.],\n",
       "          [0., 0., 0., 0., 0., 0., 0., 0., 0., 0., 0., 0., 0., 0., 0., 0., 0., 0., 0., 0., 0., 0., 0.,\n",
       "           0., 0., 0., 0., 0.],\n",
       "          [0., 0., 0., 0., 0., 0., 0., 0., 0., 0., 0., 0., 0., 0., 0., 0., 0., 0., 0., 0., 0., 0., 0.,\n",
       "           0., 0., 0., 0., 0.],\n",
       "          [0., 0., 0., 0., 0., 0., 0., 0., 0., 0., 0., 0., 0., 0., 0., 0., 0., 0., 0., 0., 0., 0., 0.,\n",
       "           0., 0., 0., 0., 0.],\n",
       "          [0., 0., 0., 0., 0., 0., 0., 0., 0., 0., 0., 0., 0., 0., 0., 0., 0., 0., 0., 0., 0., 0., 0.,\n",
       "           0., 0., 0., 0., 0.],\n",
       "          [0., 0., 0., 0., 0., 0., 0., 0., 0., 0., 0., 0., 0., 0., 0., 0., 0., 0., 0., 0., 0., 0., 0.,\n",
       "           0., 0., 0., 0., 0.],\n",
       "          [0., 0., 0., 0., 0., 0., 0., 0., 0., 0., 0., 0., 0., 0., 0., 0., 0., 0., 0., 0., 0., 0., 0.,\n",
       "           0., 0., 0., 0., 0.],\n",
       "          [0., 0., 0., 0., 0., 0., 0., 0., 0., 0., 0., 0., 0., 0., 0., 0., 0., 0., 0., 0., 0., 0., 0.,\n",
       "           0., 0., 0., 0., 0.],\n",
       "          [0., 0., 0., 0., 0., 0., 0., 0., 0., 0., 0., 0., 0., 0., 0., 0., 0., 0., 0., 0., 0., 0., 0.,\n",
       "           0., 0., 0., 0., 0.],\n",
       "          [0., 0., 0., 0., 0., 0., 0., 0., 0., 0., 0., 0., 0., 0., 0., 0., 0., 0., 0., 0., 0., 0., 0.,\n",
       "           0., 0., 0., 0., 0.]]]])"
      ]
     },
     "execution_count": 15,
     "metadata": {},
     "output_type": "execute_result"
    }
   ],
   "source": [
    "model_1.train()\n",
    "\n",
    "with torch.no_grad():\n",
    "    model_1.eval()\n",
    "    test = dataset.data[784].unsqueeze(0).unsqueeze(0).float() / 255\n",
    "    test = torch.clamp(test + 0.5 * torch.normal(torch.zeros_like(test), torch.ones_like(test)), 0., 1.0)\n",
    "    predict = model_1(test)\n",
    "predict"
   ]
  },
  {
   "cell_type": "code",
   "execution_count": 16,
   "metadata": {},
   "outputs": [
    {
     "data": {
      "image/png": "[encoded data removed]",
      "text/plain": [
       "<Figure size 432x288 with 1 Axes>"
      ]
     },
     "metadata": {
      "needs_background": "light"
     },
     "output_type": "display_data"
    }
   ],
   "source": [
    "### Модель не распознала шум? Слишком долго выполняется код, нет возможности\n",
    "#    покрутить модель. На изначальных параметрах модели тоже пустая картинка..\n",
    "sample = predict.view(torch.squeeze(predict).size())\n",
    "\n",
    "plt.imshow(sample.detach().numpy())\n",
    "plt.show()"
   ]
  },
  {
   "cell_type": "markdown",
   "metadata": {},
   "source": [
    "VAE"
   ]
  },
  {
   "cell_type": "code",
   "execution_count": 17,
   "metadata": {},
   "outputs": [],
   "source": [
    "class Encoder(nn.Module):\n",
    "    # 28*28 -> hidden -> out\n",
    "    def __init__(self, in_chan, hidden_ch, out_channels):\n",
    "        super().__init__()\n",
    "        #conv2d -> maxpool2d -> conv2d -> maxpool2d -> conv2d\n",
    "        self.conv1 = nn.Conv2d(in_chan, hidden_ch, kernel_size=7, stride=1, padding=3) # 28 x28\n",
    "        self.pool1 = nn.MaxPool2d(2, 2) # 14 x 14\n",
    "        self.conv2 = nn.Conv2d(hidden_ch, hidden_ch, kernel_size=3, stride=1, padding=1)  # 14 x 14\n",
    "        self.pool2 = nn.AvgPool2d(2, 2)  # 7 x 7\n",
    "        self.conv_mu = nn.Conv2d(hidden_ch, out_channels, kernel_size=4, stride=1, padding=2)\n",
    "        self.conv_sigma = nn.Conv2d(hidden_ch, out_channels, kernel_size=3, stride=1, padding=1)\n",
    "\n",
    "        self.activation = nn.ReLU()\n",
    "\n",
    "    def forward(self, x): # -> 7x7\n",
    "        x = self.activation(self.pool1(self.conv1(x)))\n",
    "        x = self.activation(self.pool2(self.conv2(x)))\n",
    "        mu = self.activation(self.conv_mu(x))\n",
    "        sigma = torch.exp(self.conv_sigma(x))\n",
    "\n",
    "        return mu, sigma\n",
    "\n",
    "\n",
    "class Decoder(nn.Module):\n",
    "    #conv2d -> upsampling2d -> conv2d -> upsampling2d -> conv2d\n",
    "    def __init__(self, in_chan, hidden_ch, out_chan):\n",
    "        super().__init__()\n",
    "        self.conv1 = nn.Conv2d(in_chan, hidden_ch, kernel_size=3, stride=1, padding=1)  # 7 x 7\n",
    "        self.upsample1 = nn.UpsamplingNearest2d(scale_factor=2)  # 14 x 14\n",
    "        self.conv2 = nn.Conv2d(hidden_ch, hidden_ch, kernel_size=3, stride=1, padding=1)  # 14 x 14\n",
    "        self.upsample2 = nn.UpsamplingNearest2d(scale_factor=2)  # 28 x 28\n",
    "        self.conv3 = nn.Conv2d(hidden_ch, out_chan, kernel_size=5, stride=1, padding=2)\n",
    "\n",
    "        self.activation = nn.ReLU()\n",
    "\n",
    "    def forward(self, x): # -> 28 x 28\n",
    "        x = self.activation(self.upsample1(self.conv1(x)))\n",
    "        x = self.activation(self.upsample2(self.conv2(x)))\n",
    "        x = self.activation(self.conv3(x))\n",
    "\n",
    "        return x"
   ]
  },
  {
   "cell_type": "code",
   "execution_count": 18,
   "metadata": {},
   "outputs": [],
   "source": [
    "class AutoEncoder(nn.Module):\n",
    "    def __init__(self, input_ch, enc_hidden_ch, dec_hidden_ch, latent_ch):\n",
    "        super().__init__()\n",
    "        self.encoder = Encoder(input_ch, enc_hidden_ch, latent_ch)\n",
    "        self.decoder = Decoder(latent_ch, dec_hidden_ch, input_ch)\n",
    "\n",
    "    def forward(self, x):\n",
    "        mu, sigma = self.encoder(x)\n",
    "        x = sampling(mu, sigma)\n",
    "        x = self.decoder(x)\n",
    "\n",
    "        return x, mu, sigma"
   ]
  },
  {
   "cell_type": "code",
   "execution_count": 19,
   "metadata": {},
   "outputs": [],
   "source": [
    "# sampling\n",
    "def sampling(mu, sigma):\n",
    "    return mu + sigma * torch.normal(torch.zeros_like(sigma),\n",
    "                                     torch.ones_like(sigma))\n",
    "\n",
    "\n",
    "def collate_fn(data):\n",
    "    pics = []\n",
    "    target = []\n",
    "    for item in data:\n",
    "\n",
    "        pics.append(numpy.array(item[0]))\n",
    "        target.append(item[1])\n",
    "    return {\n",
    "        'data': torch.from_numpy(numpy.array(pics)).float() / 255,\n",
    "        'target': torch.from_numpy(numpy.array(target)),\n",
    "    }\n",
    "\n",
    "\n",
    "def kl_loss(mu, sigma):\n",
    "    p = torch.distributions.Normal(mu, sigma)\n",
    "    q = torch.distributions.Normal(torch.zeros_like(mu), torch.ones_like(sigma))\n",
    "\n",
    "    return torch.distributions.kl_divergence(p, q).mean()"
   ]
  },
  {
   "cell_type": "code",
   "execution_count": 37,
   "metadata": {},
   "outputs": [],
   "source": [
    "model2 = AutoEncoder(1, 50, 45, 1)\n",
    "model2.train()\n",
    "model2.to(device)\n",
    "\n",
    "optim2 = torch.optim.Adam(model2.parameters(), lr=0.001)\n",
    "criterion2 = nn.MSELoss()"
   ]
  },
  {
   "cell_type": "code",
   "execution_count": 38,
   "metadata": {},
   "outputs": [
    {
     "name": "stdout",
     "output_type": "stream",
     "text": [
      "kl_loss: 0.0014852631138637662, criterion_loss: 0.1130523830652237\n",
      "kl_loss: 0.03134269267320633, criterion_loss: 0.07359606772661209\n",
      "kl_loss: 0.02940024621784687, criterion_loss: 0.0704735666513443\n",
      "epoch: 0\n",
      "kl_loss: 0.027482330799102783, criterion_loss: 0.06930218636989594\n",
      "kl_loss: 0.0398651659488678, criterion_loss: 0.0647791400551796\n",
      "kl_loss: 0.04211898148059845, criterion_loss: 0.06369849294424057\n",
      "epoch: 1\n",
      "kl_loss: 0.048332203179597855, criterion_loss: 0.06467343866825104\n",
      "kl_loss: 0.04849981144070625, criterion_loss: 0.06353256851434708\n",
      "kl_loss: 0.04838209226727486, criterion_loss: 0.06373150646686554\n",
      "epoch: 2\n",
      "kl_loss: 0.04761927202343941, criterion_loss: 0.06309276819229126\n",
      "kl_loss: 0.04830648750066757, criterion_loss: 0.06315804272890091\n",
      "kl_loss: 0.05074344947934151, criterion_loss: 0.06296658515930176\n",
      "epoch: 3\n",
      "kl_loss: 0.05386507883667946, criterion_loss: 0.06321109086275101\n",
      "kl_loss: 0.04931560531258583, criterion_loss: 0.06420785933732986\n",
      "kl_loss: 0.05263017490506172, criterion_loss: 0.060719117522239685\n",
      "epoch: 4\n",
      "kl_loss: 0.0585627555847168, criterion_loss: 0.06217387318611145\n",
      "kl_loss: 0.05548868328332901, criterion_loss: 0.059855591505765915\n",
      "kl_loss: 0.05935681238770485, criterion_loss: 0.06331410259008408\n",
      "epoch: 5\n",
      "kl_loss: 0.058216243982315063, criterion_loss: 0.061132751405239105\n",
      "kl_loss: 0.05605241283774376, criterion_loss: 0.06270753592252731\n",
      "kl_loss: 0.05865823104977608, criterion_loss: 0.06211857125163078\n",
      "epoch: 6\n",
      "kl_loss: 0.05810575559735298, criterion_loss: 0.05997481197118759\n",
      "kl_loss: 0.05526620149612427, criterion_loss: 0.06026178598403931\n",
      "kl_loss: 0.05681540444493294, criterion_loss: 0.061399269849061966\n",
      "epoch: 7\n",
      "kl_loss: 0.06251692026853561, criterion_loss: 0.05982087180018425\n",
      "kl_loss: 0.06188216432929039, criterion_loss: 0.061001501977443695\n",
      "kl_loss: 0.05854532867670059, criterion_loss: 0.06130848452448845\n",
      "epoch: 8\n",
      "kl_loss: 0.06186364218592644, criterion_loss: 0.061423372477293015\n",
      "kl_loss: 0.06382956355810165, criterion_loss: 0.0624057836830616\n",
      "kl_loss: 0.05904495343565941, criterion_loss: 0.061180539429187775\n",
      "epoch: 9\n"
     ]
    }
   ],
   "source": [
    "for epoch in range(10):\n",
    "    dataloader = DataLoader(\n",
    "        dataset=dataset,\n",
    "        collate_fn=collate_fn,\n",
    "        batch_size=batch_size,\n",
    "        shuffle=True,\n",
    "        drop_last=True,\n",
    "    )\n",
    "    for step, batch in enumerate(dataloader):\n",
    "        data = batch['data'].to(device).unsqueeze(1)\n",
    "        optim2.zero_grad()\n",
    "        \n",
    "        predict, mu, sigma = model2(data)\n",
    "        #loss\n",
    "        kl = kl_loss(mu, sigma)\n",
    "        crit_loss = criterion2(data, predict)\n",
    "        loss = 0.1 * kl + crit_loss\n",
    "        loss.backward()\n",
    "        optim2.step()\n",
    "        if (step % 100 == 0):\n",
    "            print('kl_loss: {}, criterion_loss: {}'.format(kl.item(), crit_loss.item()))\n",
    "    print(f'epoch: {epoch}')"
   ]
  },
  {
   "cell_type": "code",
   "execution_count": 54,
   "metadata": {},
   "outputs": [
    {
     "data": {
      "text/plain": [
       "(tensor([[[[0.0000e+00, 0.0000e+00, 0.0000e+00, 0.0000e+00, 0.0000e+00,\n",
       "            0.0000e+00, 0.0000e+00, 0.0000e+00, 0.0000e+00, 0.0000e+00,\n",
       "            0.0000e+00, 0.0000e+00, 0.0000e+00, 0.0000e+00, 0.0000e+00,\n",
       "            0.0000e+00, 0.0000e+00, 0.0000e+00, 0.0000e+00, 0.0000e+00,\n",
       "            0.0000e+00, 0.0000e+00, 0.0000e+00, 0.0000e+00, 0.0000e+00,\n",
       "            0.0000e+00, 0.0000e+00, 0.0000e+00],\n",
       "           [0.0000e+00, 0.0000e+00, 0.0000e+00, 0.0000e+00, 0.0000e+00,\n",
       "            0.0000e+00, 0.0000e+00, 0.0000e+00, 0.0000e+00, 0.0000e+00,\n",
       "            0.0000e+00, 0.0000e+00, 0.0000e+00, 0.0000e+00, 0.0000e+00,\n",
       "            0.0000e+00, 0.0000e+00, 0.0000e+00, 0.0000e+00, 0.0000e+00,\n",
       "            0.0000e+00, 0.0000e+00, 0.0000e+00, 0.0000e+00, 0.0000e+00,\n",
       "            0.0000e+00, 0.0000e+00, 0.0000e+00],\n",
       "           [0.0000e+00, 0.0000e+00, 0.0000e+00, 0.0000e+00, 0.0000e+00,\n",
       "            0.0000e+00, 0.0000e+00, 0.0000e+00, 0.0000e+00, 0.0000e+00,\n",
       "            0.0000e+00, 0.0000e+00, 0.0000e+00, 0.0000e+00, 0.0000e+00,\n",
       "            0.0000e+00, 0.0000e+00, 0.0000e+00, 0.0000e+00, 0.0000e+00,\n",
       "            0.0000e+00, 0.0000e+00, 0.0000e+00, 0.0000e+00, 0.0000e+00,\n",
       "            0.0000e+00, 0.0000e+00, 0.0000e+00],\n",
       "           [0.0000e+00, 0.0000e+00, 0.0000e+00, 0.0000e+00, 0.0000e+00,\n",
       "            0.0000e+00, 0.0000e+00, 0.0000e+00, 0.0000e+00, 5.3246e-03,\n",
       "            7.4230e-02, 8.8164e-02, 1.7716e-02, 0.0000e+00, 0.0000e+00,\n",
       "            0.0000e+00, 0.0000e+00, 0.0000e+00, 0.0000e+00, 4.7317e-02,\n",
       "            0.0000e+00, 0.0000e+00, 0.0000e+00, 0.0000e+00, 0.0000e+00,\n",
       "            0.0000e+00, 0.0000e+00, 0.0000e+00],\n",
       "           [0.0000e+00, 0.0000e+00, 0.0000e+00, 0.0000e+00, 0.0000e+00,\n",
       "            0.0000e+00, 0.0000e+00, 0.0000e+00, 2.2045e-01, 2.8925e-01,\n",
       "            3.6495e-01, 3.5474e-01, 2.2423e-01, 1.8561e-01, 1.7039e-01,\n",
       "            1.2896e-01, 1.5225e-01, 1.9781e-01, 3.0975e-01, 3.9030e-01,\n",
       "            2.9195e-01, 1.8556e-01, 6.5669e-02, 0.0000e+00, 0.0000e+00,\n",
       "            0.0000e+00, 0.0000e+00, 0.0000e+00],\n",
       "           [0.0000e+00, 0.0000e+00, 0.0000e+00, 0.0000e+00, 0.0000e+00,\n",
       "            0.0000e+00, 0.0000e+00, 1.1658e-01, 3.3553e-01, 4.1620e-01,\n",
       "            4.9682e-01, 4.5998e-01, 3.1910e-01, 2.6268e-01, 2.0796e-01,\n",
       "            1.8289e-01, 2.3282e-01, 3.2984e-01, 4.4599e-01, 5.0967e-01,\n",
       "            4.3650e-01, 2.9330e-01, 1.2089e-01, 0.0000e+00, 0.0000e+00,\n",
       "            0.0000e+00, 0.0000e+00, 0.0000e+00],\n",
       "           [0.0000e+00, 0.0000e+00, 0.0000e+00, 0.0000e+00, 4.1159e-02,\n",
       "            4.7756e-02, 1.2304e-01, 2.6025e-01, 4.6273e-01, 5.4888e-01,\n",
       "            5.9224e-01, 5.4400e-01, 3.9637e-01, 3.1390e-01, 2.8262e-01,\n",
       "            2.9075e-01, 3.4742e-01, 4.6592e-01, 6.2727e-01, 6.5766e-01,\n",
       "            5.2267e-01, 3.8222e-01, 1.9192e-01, 0.0000e+00, 0.0000e+00,\n",
       "            0.0000e+00, 0.0000e+00, 0.0000e+00],\n",
       "           [0.0000e+00, 0.0000e+00, 0.0000e+00, 0.0000e+00, 1.0587e-01,\n",
       "            1.1377e-01, 1.9818e-01, 3.4041e-01, 5.4041e-01, 5.8806e-01,\n",
       "            6.2580e-01, 5.5450e-01, 3.7606e-01, 3.3476e-01, 2.9833e-01,\n",
       "            3.0799e-01, 3.8857e-01, 5.2790e-01, 6.7798e-01, 7.1376e-01,\n",
       "            5.6532e-01, 4.4312e-01, 2.4508e-01, 3.1563e-02, 0.0000e+00,\n",
       "            0.0000e+00, 0.0000e+00, 0.0000e+00],\n",
       "           [0.0000e+00, 0.0000e+00, 0.0000e+00, 0.0000e+00, 1.2463e-01,\n",
       "            1.7063e-01, 2.6290e-01, 4.0728e-01, 5.9260e-01, 6.1660e-01,\n",
       "            6.0305e-01, 5.1248e-01, 3.2929e-01, 2.9217e-01, 2.8432e-01,\n",
       "            3.2938e-01, 4.2588e-01, 5.6765e-01, 7.1135e-01, 7.1963e-01,\n",
       "            5.8073e-01, 4.3719e-01, 2.6369e-01, 8.5574e-02, 0.0000e+00,\n",
       "            0.0000e+00, 0.0000e+00, 0.0000e+00],\n",
       "           [0.0000e+00, 0.0000e+00, 0.0000e+00, 0.0000e+00, 8.8475e-02,\n",
       "            1.4977e-01, 2.6220e-01, 4.2787e-01, 6.0446e-01, 6.0677e-01,\n",
       "            5.7436e-01, 4.5492e-01, 2.8198e-01, 2.4702e-01, 2.8403e-01,\n",
       "            3.6900e-01, 4.8051e-01, 5.8665e-01, 6.9823e-01, 7.2521e-01,\n",
       "            5.4455e-01, 4.3077e-01, 2.8115e-01, 9.2164e-02, 0.0000e+00,\n",
       "            0.0000e+00, 0.0000e+00, 0.0000e+00],\n",
       "           [0.0000e+00, 0.0000e+00, 0.0000e+00, 0.0000e+00, 6.6750e-02,\n",
       "            1.2882e-01, 2.4146e-01, 4.0556e-01, 5.9278e-01, 5.6626e-01,\n",
       "            5.2059e-01, 4.0607e-01, 2.4225e-01, 2.3598e-01, 2.9357e-01,\n",
       "            3.5223e-01, 4.7965e-01, 6.0273e-01, 6.7246e-01, 6.9016e-01,\n",
       "            5.3417e-01, 4.1207e-01, 2.5765e-01, 1.0155e-01, 0.0000e+00,\n",
       "            0.0000e+00, 0.0000e+00, 0.0000e+00],\n",
       "           [0.0000e+00, 0.0000e+00, 0.0000e+00, 0.0000e+00, 0.0000e+00,\n",
       "            8.2825e-02, 2.2426e-01, 3.8642e-01, 5.5705e-01, 5.3434e-01,\n",
       "            4.5715e-01, 3.5827e-01, 2.2996e-01, 2.1048e-01, 2.9152e-01,\n",
       "            3.5009e-01, 4.8800e-01, 6.1755e-01, 6.8452e-01, 6.7177e-01,\n",
       "            5.2763e-01, 3.8165e-01, 2.4410e-01, 1.0794e-01, 0.0000e+00,\n",
       "            0.0000e+00, 0.0000e+00, 0.0000e+00],\n",
       "           [0.0000e+00, 0.0000e+00, 0.0000e+00, 0.0000e+00, 0.0000e+00,\n",
       "            8.9231e-02, 2.4340e-01, 3.6229e-01, 5.0951e-01, 4.8204e-01,\n",
       "            4.3106e-01, 3.3274e-01, 2.1780e-01, 2.1956e-01, 2.9225e-01,\n",
       "            3.8806e-01, 5.2238e-01, 6.2488e-01, 6.9315e-01, 7.1976e-01,\n",
       "            5.6420e-01, 4.2210e-01, 2.7263e-01, 1.2976e-01, 0.0000e+00,\n",
       "            0.0000e+00, 0.0000e+00, 0.0000e+00],\n",
       "           [0.0000e+00, 0.0000e+00, 0.0000e+00, 0.0000e+00, 2.2968e-02,\n",
       "            1.0662e-01, 2.4012e-01, 3.5281e-01, 4.7537e-01, 4.4997e-01,\n",
       "            4.0613e-01, 3.0423e-01, 2.1381e-01, 2.3498e-01, 3.0403e-01,\n",
       "            4.1388e-01, 5.3733e-01, 6.3603e-01, 6.8340e-01, 6.8803e-01,\n",
       "            5.5685e-01, 3.8318e-01, 2.0786e-01, 7.9508e-02, 0.0000e+00,\n",
       "            0.0000e+00, 0.0000e+00, 0.0000e+00],\n",
       "           [0.0000e+00, 0.0000e+00, 0.0000e+00, 0.0000e+00, 2.2269e-03,\n",
       "            7.9770e-02, 2.1428e-01, 3.2918e-01, 4.3973e-01, 4.1909e-01,\n",
       "            3.6316e-01, 2.6457e-01, 1.9366e-01, 2.1540e-01, 2.9355e-01,\n",
       "            4.0527e-01, 5.3865e-01, 6.4918e-01, 6.8314e-01, 6.8448e-01,\n",
       "            5.1648e-01, 3.0211e-01, 1.3535e-01, 6.2003e-04, 0.0000e+00,\n",
       "            0.0000e+00, 0.0000e+00, 0.0000e+00],\n",
       "           [0.0000e+00, 0.0000e+00, 0.0000e+00, 0.0000e+00, 2.5052e-02,\n",
       "            1.1052e-01, 2.3281e-01, 3.2211e-01, 4.5243e-01, 4.2442e-01,\n",
       "            3.8048e-01, 2.8697e-01, 1.9344e-01, 2.4685e-01, 3.0787e-01,\n",
       "            4.1684e-01, 5.3850e-01, 6.2950e-01, 6.8454e-01, 6.6005e-01,\n",
       "            4.3923e-01, 2.3905e-01, 5.9975e-02, 0.0000e+00, 0.0000e+00,\n",
       "            0.0000e+00, 0.0000e+00, 0.0000e+00],\n",
       "           [0.0000e+00, 0.0000e+00, 0.0000e+00, 0.0000e+00, 1.7669e-02,\n",
       "            1.0335e-01, 2.2435e-01, 3.3004e-01, 4.5369e-01, 4.4165e-01,\n",
       "            4.0069e-01, 3.2317e-01, 2.5881e-01, 3.0631e-01, 4.0167e-01,\n",
       "            5.1954e-01, 6.3440e-01, 7.0906e-01, 6.8501e-01, 5.6824e-01,\n",
       "            3.2537e-01, 1.1527e-01, 0.0000e+00, 0.0000e+00, 0.0000e+00,\n",
       "            0.0000e+00, 0.0000e+00, 0.0000e+00],\n",
       "           [0.0000e+00, 0.0000e+00, 0.0000e+00, 0.0000e+00, 2.0766e-02,\n",
       "            9.0937e-02, 2.1928e-01, 3.2003e-01, 4.4709e-01, 4.2568e-01,\n",
       "            3.9727e-01, 3.3264e-01, 2.5427e-01, 3.4208e-01, 4.5658e-01,\n",
       "            5.7438e-01, 7.1744e-01, 7.5836e-01, 6.7652e-01, 5.5978e-01,\n",
       "            2.9525e-01, 6.9945e-02, 0.0000e+00, 0.0000e+00, 0.0000e+00,\n",
       "            0.0000e+00, 0.0000e+00, 0.0000e+00],\n",
       "           [0.0000e+00, 0.0000e+00, 0.0000e+00, 0.0000e+00, 0.0000e+00,\n",
       "            8.4686e-02, 2.1654e-01, 3.0375e-01, 4.4718e-01, 4.1224e-01,\n",
       "            3.5762e-01, 3.2733e-01, 2.7905e-01, 3.8915e-01, 5.0041e-01,\n",
       "            5.7462e-01, 6.5017e-01, 6.8063e-01, 6.0425e-01, 4.5378e-01,\n",
       "            1.6777e-01, 0.0000e+00, 0.0000e+00, 0.0000e+00, 0.0000e+00,\n",
       "            0.0000e+00, 0.0000e+00, 2.4482e-02],\n",
       "           [0.0000e+00, 0.0000e+00, 0.0000e+00, 0.0000e+00, 0.0000e+00,\n",
       "            6.5501e-02, 1.9119e-01, 2.8345e-01, 4.2797e-01, 3.9672e-01,\n",
       "            3.2831e-01, 3.0862e-01, 3.0910e-01, 4.0737e-01, 5.4764e-01,\n",
       "            6.1904e-01, 6.4719e-01, 6.7028e-01, 5.6418e-01, 3.7486e-01,\n",
       "            8.8547e-02, 0.0000e+00, 0.0000e+00, 0.0000e+00, 0.0000e+00,\n",
       "            0.0000e+00, 0.0000e+00, 4.5851e-02],\n",
       "           [0.0000e+00, 0.0000e+00, 0.0000e+00, 0.0000e+00, 2.2727e-02,\n",
       "            9.3619e-02, 2.2058e-01, 3.0533e-01, 4.1068e-01, 3.8101e-01,\n",
       "            3.3991e-01, 3.3951e-01, 3.3827e-01, 4.4221e-01, 5.6407e-01,\n",
       "            5.9115e-01, 6.0963e-01, 5.7517e-01, 4.6586e-01, 3.5370e-01,\n",
       "            7.2625e-02, 0.0000e+00, 0.0000e+00, 0.0000e+00, 0.0000e+00,\n",
       "            0.0000e+00, 0.0000e+00, 9.7129e-02],\n",
       "           [0.0000e+00, 0.0000e+00, 0.0000e+00, 0.0000e+00, 3.3563e-02,\n",
       "            8.7211e-02, 2.0267e-01, 2.6754e-01, 3.6032e-01, 3.4092e-01,\n",
       "            3.2496e-01, 3.6031e-01, 3.9626e-01, 4.7103e-01, 5.7030e-01,\n",
       "            5.7300e-01, 5.4087e-01, 5.0672e-01, 4.0759e-01, 3.1683e-01,\n",
       "            4.8207e-02, 0.0000e+00, 0.0000e+00, 0.0000e+00, 0.0000e+00,\n",
       "            0.0000e+00, 0.0000e+00, 5.0976e-02],\n",
       "           [0.0000e+00, 0.0000e+00, 0.0000e+00, 0.0000e+00, 0.0000e+00,\n",
       "            4.7083e-02, 1.4543e-01, 1.9985e-01, 3.0619e-01, 3.0374e-01,\n",
       "            3.2617e-01, 3.7533e-01, 4.1455e-01, 4.6626e-01, 5.3606e-01,\n",
       "            4.9028e-01, 4.3386e-01, 3.8550e-01, 2.9431e-01, 2.5413e-01,\n",
       "            6.0886e-03, 0.0000e+00, 0.0000e+00, 0.0000e+00, 0.0000e+00,\n",
       "            0.0000e+00, 0.0000e+00, 2.8689e-02],\n",
       "           [0.0000e+00, 0.0000e+00, 0.0000e+00, 0.0000e+00, 0.0000e+00,\n",
       "            1.5534e-02, 1.0733e-01, 1.5938e-01, 2.6700e-01, 2.7782e-01,\n",
       "            3.3720e-01, 3.8693e-01, 4.0901e-01, 4.4904e-01, 4.7081e-01,\n",
       "            4.0891e-01, 3.5681e-01, 3.1131e-01, 2.5070e-01, 2.3102e-01,\n",
       "            0.0000e+00, 0.0000e+00, 0.0000e+00, 0.0000e+00, 0.0000e+00,\n",
       "            0.0000e+00, 0.0000e+00, 0.0000e+00],\n",
       "           [0.0000e+00, 0.0000e+00, 0.0000e+00, 0.0000e+00, 0.0000e+00,\n",
       "            0.0000e+00, 0.0000e+00, 0.0000e+00, 6.7397e-02, 8.9746e-02,\n",
       "            1.5331e-01, 1.8382e-01, 2.1456e-01, 2.3863e-01, 2.3842e-01,\n",
       "            2.1562e-01, 1.7428e-01, 1.4600e-01, 1.1530e-01, 9.4409e-02,\n",
       "            0.0000e+00, 0.0000e+00, 0.0000e+00, 0.0000e+00, 0.0000e+00,\n",
       "            0.0000e+00, 0.0000e+00, 0.0000e+00],\n",
       "           [0.0000e+00, 0.0000e+00, 0.0000e+00, 0.0000e+00, 0.0000e+00,\n",
       "            0.0000e+00, 0.0000e+00, 0.0000e+00, 0.0000e+00, 0.0000e+00,\n",
       "            3.5238e-02, 5.2549e-02, 6.4157e-02, 8.3935e-02, 7.0463e-02,\n",
       "            5.2264e-02, 3.7297e-02, 8.7203e-03, 0.0000e+00, 0.0000e+00,\n",
       "            0.0000e+00, 0.0000e+00, 0.0000e+00, 0.0000e+00, 0.0000e+00,\n",
       "            0.0000e+00, 0.0000e+00, 0.0000e+00],\n",
       "           [0.0000e+00, 0.0000e+00, 0.0000e+00, 0.0000e+00, 0.0000e+00,\n",
       "            0.0000e+00, 0.0000e+00, 0.0000e+00, 0.0000e+00, 0.0000e+00,\n",
       "            6.2152e-03, 0.0000e+00, 0.0000e+00, 0.0000e+00, 0.0000e+00,\n",
       "            0.0000e+00, 0.0000e+00, 0.0000e+00, 0.0000e+00, 0.0000e+00,\n",
       "            0.0000e+00, 0.0000e+00, 0.0000e+00, 0.0000e+00, 0.0000e+00,\n",
       "            0.0000e+00, 0.0000e+00, 0.0000e+00],\n",
       "           [0.0000e+00, 0.0000e+00, 0.0000e+00, 0.0000e+00, 0.0000e+00,\n",
       "            0.0000e+00, 0.0000e+00, 0.0000e+00, 0.0000e+00, 0.0000e+00,\n",
       "            0.0000e+00, 0.0000e+00, 0.0000e+00, 0.0000e+00, 0.0000e+00,\n",
       "            0.0000e+00, 0.0000e+00, 0.0000e+00, 0.0000e+00, 0.0000e+00,\n",
       "            0.0000e+00, 0.0000e+00, 0.0000e+00, 0.0000e+00, 0.0000e+00,\n",
       "            0.0000e+00, 0.0000e+00, 0.0000e+00]]]]),\n",
       " tensor([[[[0., 0., 0., 0., 0., 0., 0.],\n",
       "           [0., 0., 0., 0., 0., 0., 0.],\n",
       "           [0., 0., 0., 0., 0., 0., 0.],\n",
       "           [0., 0., 0., 0., 0., 0., 0.],\n",
       "           [0., 0., 0., 0., 0., 0., 0.],\n",
       "           [0., 0., 0., 0., 0., 0., 0.],\n",
       "           [0., 0., 0., 0., 0., 0., 0.]]]]),\n",
       " tensor([[[[0.8350, 1.2800, 0.8552, 0.9745, 1.0358, 1.0369, 1.0880],\n",
       "           [0.8035, 1.1977, 0.8240, 0.8038, 0.9366, 1.2934, 0.9635],\n",
       "           [0.7993, 1.2085, 0.8188, 0.6236, 1.1553, 1.0960, 0.8452],\n",
       "           [0.8821, 1.1956, 0.8120, 0.8252, 1.4144, 1.0057, 0.8570],\n",
       "           [0.9095, 1.0261, 0.6830, 0.8805, 1.3807, 0.8380, 0.8154],\n",
       "           [0.9159, 0.9382, 0.7902, 1.1564, 1.0831, 0.8161, 0.8956],\n",
       "           [0.9511, 1.0121, 0.9940, 1.1217, 0.9584, 0.9125, 0.9437]]]]))"
      ]
     },
     "execution_count": 54,
     "metadata": {},
     "output_type": "execute_result"
    }
   ],
   "source": [
    "with torch.no_grad():\n",
    "    model.eval()\n",
    "    test = dataset.data[784].unsqueeze(0).unsqueeze(0).float() / 255\n",
    "    predict = model(test)\n",
    "predict"
   ]
  },
  {
   "cell_type": "code",
   "execution_count": 41,
   "metadata": {},
   "outputs": [
    {
     "data": {
      "text/plain": [
       "torch.Size([28, 28])"
      ]
     },
     "execution_count": 41,
     "metadata": {},
     "output_type": "execute_result"
    }
   ],
   "source": [
    "predict[0][0][0].size()"
   ]
  },
  {
   "cell_type": "code",
   "execution_count": 55,
   "metadata": {},
   "outputs": [
    {
     "data": {
      "image/png": "[encoded data removed]",
      "text/plain": [
       "<Figure size 432x288 with 1 Axes>"
      ]
     },
     "metadata": {
      "needs_background": "light"
     },
     "output_type": "display_data"
    }
   ],
   "source": [
    "### Увеличение эпох с 2 до 10 только сделало четче ту же область,\n",
    "#    код выполнялся около 1часа, VAE сильно мылит изображение. Необходимо уменьшить ядро в свертках?\n",
    "\n",
    "plt.imshow(predict[0][0][0].detach().numpy())\n",
    "plt.show()"
   ]
  },
  {
   "cell_type": "code",
   "execution_count": 43,
   "metadata": {},
   "outputs": [
    {
     "data": {
      "image/png": "[encoded data removed]",
      "text/plain": [
       "<Figure size 432x288 with 1 Axes>"
      ]
     },
     "metadata": {
      "needs_background": "light"
     },
     "output_type": "display_data"
    }
   ],
   "source": [
    "plt.imshow(test[0].view(28, 28).detach().numpy())\n",
    "plt.show()"
   ]
  }
 ],
 "metadata": {
  "kernelspec": {
   "display_name": "Python 3.10.4 64-bit",
   "language": "python",
   "name": "python3"
  },
  "language_info": {
   "codemirror_mode": {
    "name": "ipython",
    "version": 3
   },
   "file_extension": ".py",
   "mimetype": "text/x-python",
   "name": "python",
   "nbconvert_exporter": "python",
   "pygments_lexer": "ipython3",
   "version": "3.10.4"
  },
  "orig_nbformat": 4,
  "vscode": {
   "interpreter": {
    "hash": "8750a921b84a1b624817dbfae33fa28d408c1c697f0b181b4279f7947f553d12"
   }
  }
 },
 "nbformat": 4,
 "nbformat_minor": 2
}
