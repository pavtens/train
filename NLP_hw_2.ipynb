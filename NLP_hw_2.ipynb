{
  "nbformat": 4,
  "nbformat_minor": 0,
  "metadata": {
    "colab": {
      "name": "NLP2_homework.ipynb",
      "provenance": [],
      "collapsed_sections": []
    },
    "kernelspec": {
      "name": "python3",
      "display_name": "Python 3"
    },
    "language_info": {
      "name": "python"
    }
  },
  "cells": [
    {
      "cell_type": "markdown",
      "source": [
        "NLP2_1\n",
        "https://www.hackerrank.com/challenges/detect-the-email-addresses/problem?isFullScreen=true"
      ],
      "metadata": {
        "id": "OYZRf1ncz-sT"
      }
    },
    {
      "cell_type": "markdown",
      "source": [
        "NLP2_2 https://www.hackerrank.com/challenges/detect-the-domain-name/problem?isFullScreen=true"
      ],
      "metadata": {
        "id": "jKzbIfdq0CKr"
      }
    },
    {
      "cell_type": "markdown",
      "source": [
        "NLP2_3 Реализовать классификатор токсичных комментариев bag of words на базе датасета\n",
        "https://www.kaggle.com/datasets/blackmoon/russian-language-toxic-comments  \n",
        "\n",
        "Дубликат файла: https://cloud.mail.ru/public/Z4L3/vB8GcgTtK\n",
        "\n"
      ],
      "metadata": {
        "id": "b5DQQnoU1bXY"
      }
    },
    {
      "cell_type": "code",
      "source": [
        ""
      ],
      "metadata": {
        "id": "aZS-k2PwQO77"
      },
      "execution_count": null,
      "outputs": []
    },
    {
      "cell_type": "code",
      "source": [
        "# NLP2_1\n",
        "# верно 4/5, не нашел ошибку по output c HackerRank\n",
        "import re\n",
        "\n",
        "N = int(input())\n",
        "pattern = r'(\\S*@\\S*\\.\\w+)'\n",
        "result_total=[]\n",
        "\n",
        "for _ in range(N):\n",
        "    raw=input()\n",
        "    result=re.findall(pattern, raw)\n",
        "    for email in result:\n",
        "      if email not in result_total:\n",
        "        result_total.append(email)\n",
        "\n",
        "result_total.sort()\n",
        "print(*result_total,sep=';')\n",
        "#    for email in result:\n",
        "#        print(email, ';', sep='', end='')"
      ],
      "metadata": {
        "id": "0BRC1-k81pIW",
        "colab": {
          "base_uri": "https://localhost:8080/"
        },
        "outputId": "aec5e70a-4395-407b-b791-416540043ed8"
      },
      "execution_count": 269,
      "outputs": [
        {
          "output_type": "stream",
          "name": "stdout",
          "text": [
            "1\n",
            "Adventure Send a letter to the editor about the content of the Adventure website. mpotts@ngs.org Advertising Why not sponsor an online feature? jbmccorm@ngs.org The Complete National Geographic Use this help form to contact us with comments or support questions regarding The Complete National Geographic on DVD or hard drive. CNG Help Form Customer Service: Magazine Subscriptions Send questions regarding your subscriptions. Check on delivery, expiration dates, or other concerns. Inquiries about National Geographic, National Geographic Kids, and Traveler can be sent to this email address. Customer service is also available online at ngsline@customersvc.com. Digital Magazine Subscriptions For questions about digital subscriptions to National Geographic magazine (iPad, Nook, Kindle, or Zinio) email us at ngsdigital@customersvc.com or call 1-800-895-2068. You can also read the digital FAQs online. Donating to National Geographic Please contact us at givinginfo@ngs.org or call +1 202 862 8638 with any questions regarding your donation, or how to make a donation in support of the Society's work in exploration, research, and education. Thank you for your support! Frequently Asked Questions Find answers to your questions here. http://www.nationalgeographic.com/faq/ Games For questions about downloadable games and Plan It Green Live, please write to: askngs@nationalgeographic.com and put \"Attn: Games\" in the subject line. Genographic Project Send us your questions regarding the Genographic Project. genographic@ngs.org Genographic Project en espaпїЅпїЅol Envienos en espaпїЅпїЅol sus preguntas sobre el Proyecto Genographic. genographicespanol@ngs.org Mobile Applications and More Email us with comments or support questions regarding our content for iPhone, iPad, Android, Windows Mobile 7, and more: apps@ngs.org. For magazine app and digital subscription queries email us at ngsdigital@customersvc.com or call 1-800-895-2068. National Geographic Channel Send comments or questions regarding our television programming. feedback@natgeotv.com National Geographic Expeditions For more information or to reserve your space, call toll-free 1-888-966-8687, or reserve online at nationalgeographicexpeditions.com. For email inquiries use this form. National Geographic Magazine Send a letter to the Editor about the content of National Geographic magazine. Letters will be considered for the monthly Forum column. ngsforum@nationalgeographic.com National Geographic Maps Contact us with questions about our maps. maps@ngs.org Photography: Stock Photography National Geographic Stock's photography collection offers the best in rights managed and royalty free wildlife, travel, landscape and lifestyle photographs available for professional editorial and commercial licensing. stock@ngs.org Photography: Commercial Assignments National Geographic Assignment represents international commercial photographers specializing in lifestyle, adventure, travel, and landscape photography. Online portfolios are available. ngassignment@ngs.org Photography: Prints You can order beautiful National Geographic prints for your home or as a great gift. Browse through our collection. News Send comments, questions or concerns regarding the National Geographic News site. newsdesk@nationalgeographic.com Public Relations Send press inquiries here. pressroom@ngs.org Speakers Bureau Send inquiries about having a National Geographic photographer, adventurer, explorer, or scientist speak at your next event. speakers@ngs.org TOPO! Digital Maps Send us your product and technical support quesions. topo@ngs.org Traveler Magazine Send a letter about Traveler magazine. Traveler@ngs.org Your Shot & Your Shot Puzzles Help Form Frequently Asked Questions Miscellaneous Not sure where to send your question? WeпїЅпїЅпїЅll pass it to the proper department. Please keep in mind that the high volume of mail does not allow us to send everyone a personal answer. askngs@nationalgeographic.com\n",
            "Traveler@ngs.org;apps@ngs.org;askngs@nationalgeographic.com;feedback@natgeotv.com;genographic@ngs.org;genographicespanol@ngs.org;givinginfo@ngs.org;jbmccorm@ngs.org;maps@ngs.org;mpotts@ngs.org;newsdesk@nationalgeographic.com;ngassignment@ngs.org;ngsdigital@customersvc.com;ngsforum@nationalgeographic.com;ngsline@customersvc.com;pressroom@ngs.org;speakers@ngs.org;stock@ngs.org;topo@ngs.org\n"
          ]
        }
      ]
    },
    {
      "cell_type": "code",
      "source": [
        "print(len(result_total))\n",
        "len(['Traveler@ngs.org','apps@ngs.org','askngs@nationalgeographic.com','feedback@natgeotv.com','genographic@ngs.org','genographicespanol@ngs.org',\\\n",
        "                    'givinginfo@ngs.org','jbmccorm@ngs.org','maps@ngs.org','mpotts@ngs.org','newsdesk@nationalgeographic.com','ngassignment@ngs.org',\\\n",
        "                    'ngsdigital@customersvc.com','ngsforum@nationalgeographic.com','ngsline@customersvc.com','pressroom@ngs.org','speakers@ngs.org','stock@ngs.org',\\\n",
        "                    'topo@ngs.org'])"
      ],
      "metadata": {
        "colab": {
          "base_uri": "https://localhost:8080/"
        },
        "id": "tFNymr8pJ0xp",
        "outputId": "c34b2c6e-4e9b-49fb-99ed-c2a62636698f"
      },
      "execution_count": 270,
      "outputs": [
        {
          "output_type": "stream",
          "name": "stdout",
          "text": [
            "19\n"
          ]
        },
        {
          "output_type": "execute_result",
          "data": {
            "text/plain": [
              "19"
            ]
          },
          "metadata": {},
          "execution_count": 270
        }
      ]
    },
    {
      "cell_type": "code",
      "source": [
        "# NLP2_2\n",
        "# верно 3/5, слишком долго искать недопилы... принцип понятен\n",
        "# часть регулярки после | нужна для случая, когда сайт стоит в конце строки\n",
        "import re\n",
        "\n",
        "N = int(input())\n",
        "pattern = r'https?://(ww\\S\\.)?(\\S+?\\.\\S+?(?=[\\\\/\\s%#@&;:,~`!\"\"''<>\\\n",
        "\\+\\*\\?\\^\\$\\(\\)\\[\\]\\{\\}\\|]))|https?://(ww\\S\\.)?([\\w\\.]+)$'\n",
        "#pattern = r'https?://(ww\\S\\.)?(\\S+?(?=[/\\s]))|(\\w+\\.)+'\n",
        "result_total=[]\n",
        "\n",
        "for _ in range(N):\n",
        "    raw=input()\n",
        "    result=re.findall(pattern, raw)\n",
        "    for _, website1, _, website2 in result:\n",
        "      if website1 not in result_total and website1!='':\n",
        "        result_total.append(website1)\n",
        "      if website2 not in result_total and website2!='':\n",
        "        result_total.append(website2)\n",
        "\n",
        "result_total.sort()\n",
        "print(*result_total,sep=';')"
      ],
      "metadata": {
        "colab": {
          "base_uri": "https://localhost:8080/"
        },
        "id": "uDXR-OnHh7O5",
        "outputId": "ab91cabf-39ef-417d-c6b1-6162948b11ef"
      },
      "execution_count": 263,
      "outputs": [
        {
          "output_type": "stream",
          "name": "stdout",
          "text": [
            "1\n",
            "\"http://www.bnsf.com/media/news/articles/2008/01/2008-01-09a.html\">Vehicle Projects Inc. Fuel cell locomotive</a></span></li>\n",
            "bnsf.com\n"
          ]
        }
      ]
    },
    {
      "cell_type": "code",
      "source": [
        "# NLP2_3\n",
        "# \n",
        "import pandas as pd\n",
        "import nltk\n",
        "from nltk.tokenize import WordPunctTokenizer\n",
        "from nltk.stem import WordNetLemmatizer, PorterStemmer\n",
        "nltk.download('wordnet')\n",
        "nltk.download('omw-1.4')\n",
        "\n",
        "data = '/content/sample_data/labeled.csv'\n",
        "data = pd.read_csv(data)\n",
        "data.tail()"
      ],
      "metadata": {
        "colab": {
          "base_uri": "https://localhost:8080/",
          "height": 276
        },
        "id": "8hMHAjaKZkQf",
        "outputId": "fa077530-4476-4420-a8f3-24ff2ea36fee"
      },
      "execution_count": 71,
      "outputs": [
        {
          "output_type": "stream",
          "name": "stderr",
          "text": [
            "[nltk_data] Downloading package wordnet to /root/nltk_data...\n",
            "[nltk_data]   Package wordnet is already up-to-date!\n",
            "[nltk_data] Downloading package omw-1.4 to /root/nltk_data...\n",
            "[nltk_data]   Package omw-1.4 is already up-to-date!\n"
          ]
        },
        {
          "output_type": "execute_result",
          "data": {
            "text/plain": [
              "                                                 comment  toxic\n",
              "14407  Вонючий совковый скот прибежал и ноет. А вот и...    1.0\n",
              "14408  А кого любить? Гоблина тупорылого что-ли? Или ...    1.0\n",
              "14409  Посмотрел Утомленных солнцем 2. И оказалось, ч...    0.0\n",
              "14410  КРЫМОТРЕД НАРУШАЕТ ПРАВИЛА РАЗДЕЛА Т.К В НЕМ Н...    1.0\n",
              "14411  До сих пор пересматриваю его видео. Орамбо кст...    0.0"
            ],
            "text/html": [
              "\n",
              "  <div id=\"df-6a7bc3c6-fdb3-410d-bfde-b082eb895270\">\n",
              "    <div class=\"colab-df-container\">\n",
              "      <div>\n",
              "<style scoped>\n",
              "    .dataframe tbody tr th:only-of-type {\n",
              "        vertical-align: middle;\n",
              "    }\n",
              "\n",
              "    .dataframe tbody tr th {\n",
              "        vertical-align: top;\n",
              "    }\n",
              "\n",
              "    .dataframe thead th {\n",
              "        text-align: right;\n",
              "    }\n",
              "</style>\n",
              "<table border=\"1\" class=\"dataframe\">\n",
              "  <thead>\n",
              "    <tr style=\"text-align: right;\">\n",
              "      <th></th>\n",
              "      <th>comment</th>\n",
              "      <th>toxic</th>\n",
              "    </tr>\n",
              "  </thead>\n",
              "  <tbody>\n",
              "    <tr>\n",
              "      <th>14407</th>\n",
              "      <td>Вонючий совковый скот прибежал и ноет. А вот и...</td>\n",
              "      <td>1.0</td>\n",
              "    </tr>\n",
              "    <tr>\n",
              "      <th>14408</th>\n",
              "      <td>А кого любить? Гоблина тупорылого что-ли? Или ...</td>\n",
              "      <td>1.0</td>\n",
              "    </tr>\n",
              "    <tr>\n",
              "      <th>14409</th>\n",
              "      <td>Посмотрел Утомленных солнцем 2. И оказалось, ч...</td>\n",
              "      <td>0.0</td>\n",
              "    </tr>\n",
              "    <tr>\n",
              "      <th>14410</th>\n",
              "      <td>КРЫМОТРЕД НАРУШАЕТ ПРАВИЛА РАЗДЕЛА Т.К В НЕМ Н...</td>\n",
              "      <td>1.0</td>\n",
              "    </tr>\n",
              "    <tr>\n",
              "      <th>14411</th>\n",
              "      <td>До сих пор пересматриваю его видео. Орамбо кст...</td>\n",
              "      <td>0.0</td>\n",
              "    </tr>\n",
              "  </tbody>\n",
              "</table>\n",
              "</div>\n",
              "      <button class=\"colab-df-convert\" onclick=\"convertToInteractive('df-6a7bc3c6-fdb3-410d-bfde-b082eb895270')\"\n",
              "              title=\"Convert this dataframe to an interactive table.\"\n",
              "              style=\"display:none;\">\n",
              "        \n",
              "  <svg xmlns=\"http://www.w3.org/2000/svg\" height=\"24px\"viewBox=\"0 0 24 24\"\n",
              "       width=\"24px\">\n",
              "    <path d=\"M0 0h24v24H0V0z\" fill=\"none\"/>\n",
              "    <path d=\"M18.56 5.44l.94 2.06.94-2.06 2.06-.94-2.06-.94-.94-2.06-.94 2.06-2.06.94zm-11 1L8.5 8.5l.94-2.06 2.06-.94-2.06-.94L8.5 2.5l-.94 2.06-2.06.94zm10 10l.94 2.06.94-2.06 2.06-.94-2.06-.94-.94-2.06-.94 2.06-2.06.94z\"/><path d=\"M17.41 7.96l-1.37-1.37c-.4-.4-.92-.59-1.43-.59-.52 0-1.04.2-1.43.59L10.3 9.45l-7.72 7.72c-.78.78-.78 2.05 0 2.83L4 21.41c.39.39.9.59 1.41.59.51 0 1.02-.2 1.41-.59l7.78-7.78 2.81-2.81c.8-.78.8-2.07 0-2.86zM5.41 20L4 18.59l7.72-7.72 1.47 1.35L5.41 20z\"/>\n",
              "  </svg>\n",
              "      </button>\n",
              "      \n",
              "  <style>\n",
              "    .colab-df-container {\n",
              "      display:flex;\n",
              "      flex-wrap:wrap;\n",
              "      gap: 12px;\n",
              "    }\n",
              "\n",
              "    .colab-df-convert {\n",
              "      background-color: #E8F0FE;\n",
              "      border: none;\n",
              "      border-radius: 50%;\n",
              "      cursor: pointer;\n",
              "      display: none;\n",
              "      fill: #1967D2;\n",
              "      height: 32px;\n",
              "      padding: 0 0 0 0;\n",
              "      width: 32px;\n",
              "    }\n",
              "\n",
              "    .colab-df-convert:hover {\n",
              "      background-color: #E2EBFA;\n",
              "      box-shadow: 0px 1px 2px rgba(60, 64, 67, 0.3), 0px 1px 3px 1px rgba(60, 64, 67, 0.15);\n",
              "      fill: #174EA6;\n",
              "    }\n",
              "\n",
              "    [theme=dark] .colab-df-convert {\n",
              "      background-color: #3B4455;\n",
              "      fill: #D2E3FC;\n",
              "    }\n",
              "\n",
              "    [theme=dark] .colab-df-convert:hover {\n",
              "      background-color: #434B5C;\n",
              "      box-shadow: 0px 1px 3px 1px rgba(0, 0, 0, 0.15);\n",
              "      filter: drop-shadow(0px 1px 2px rgba(0, 0, 0, 0.3));\n",
              "      fill: #FFFFFF;\n",
              "    }\n",
              "  </style>\n",
              "\n",
              "      <script>\n",
              "        const buttonEl =\n",
              "          document.querySelector('#df-6a7bc3c6-fdb3-410d-bfde-b082eb895270 button.colab-df-convert');\n",
              "        buttonEl.style.display =\n",
              "          google.colab.kernel.accessAllowed ? 'block' : 'none';\n",
              "\n",
              "        async function convertToInteractive(key) {\n",
              "          const element = document.querySelector('#df-6a7bc3c6-fdb3-410d-bfde-b082eb895270');\n",
              "          const dataTable =\n",
              "            await google.colab.kernel.invokeFunction('convertToInteractive',\n",
              "                                                     [key], {});\n",
              "          if (!dataTable) return;\n",
              "\n",
              "          const docLinkHtml = 'Like what you see? Visit the ' +\n",
              "            '<a target=\"_blank\" href=https://colab.research.google.com/notebooks/data_table.ipynb>data table notebook</a>'\n",
              "            + ' to learn more about interactive tables.';\n",
              "          element.innerHTML = '';\n",
              "          dataTable['output_type'] = 'display_data';\n",
              "          await google.colab.output.renderOutput(dataTable, element);\n",
              "          const docLink = document.createElement('div');\n",
              "          docLink.innerHTML = docLinkHtml;\n",
              "          element.appendChild(docLink);\n",
              "        }\n",
              "      </script>\n",
              "    </div>\n",
              "  </div>\n",
              "  "
            ]
          },
          "metadata": {},
          "execution_count": 71
        }
      ]
    },
    {
      "cell_type": "code",
      "source": [
        "tokenizer = WordPunctTokenizer()\n",
        "data_tok = []\n",
        "for i in range(len(data.comment)): \n",
        "  data_tok.append(tokenizer.tokenize(data.comment[i].lower()))\n",
        "\n",
        "data_tok[0]"
      ],
      "metadata": {
        "colab": {
          "base_uri": "https://localhost:8080/"
        },
        "id": "DIqnCSvo6wbx",
        "outputId": "cb29e0cb-c6d7-4e9c-e93e-95a489ed98f7"
      },
      "execution_count": 72,
      "outputs": [
        {
          "output_type": "execute_result",
          "data": {
            "text/plain": [
              "['верблюдов', '-', 'то', 'за', 'что', '?', 'дебилы', ',', 'бл', '...']"
            ]
          },
          "metadata": {},
          "execution_count": 72
        }
      ]
    },
    {
      "cell_type": "code",
      "source": [
        "sl = []\n",
        "for i in data_tok:\n",
        "  for j in i:\n",
        "    sl.append(j)\n",
        "\n",
        "# check\n",
        "print(len(sl), sl[:10])\n",
        "len([j for i in data_tok for j in i])"
      ],
      "metadata": {
        "colab": {
          "base_uri": "https://localhost:8080/"
        },
        "id": "z8kNRhn48eK3",
        "outputId": "3f508946-c396-4748-aa79-5840749cd2c6"
      },
      "execution_count": 73,
      "outputs": [
        {
          "output_type": "stream",
          "name": "stdout",
          "text": [
            "486507 ['верблюдов', '-', 'то', 'за', 'что', '?', 'дебилы', ',', 'бл', '...']\n"
          ]
        },
        {
          "output_type": "execute_result",
          "data": {
            "text/plain": [
              "486507"
            ]
          },
          "metadata": {},
          "execution_count": 73
        }
      ]
    },
    {
      "cell_type": "code",
      "source": [
        "# lemmatization\n",
        "lemmatizer = WordNetLemmatizer()\n",
        "\n",
        "sl_lem = []\n",
        "for i in sl:\n",
        "  sl_lem.append(lemmatizer.lemmatize(i))\n",
        "len(sl_lem)"
      ],
      "metadata": {
        "colab": {
          "base_uri": "https://localhost:8080/"
        },
        "id": "_wiAhhDyN_6X",
        "outputId": "0e437df4-3853-4449-823e-03ec526610ff"
      },
      "execution_count": 74,
      "outputs": [
        {
          "output_type": "execute_result",
          "data": {
            "text/plain": [
              "486507"
            ]
          },
          "metadata": {},
          "execution_count": 74
        }
      ]
    },
    {
      "cell_type": "code",
      "source": [
        "# stemming\n",
        "ps = PorterStemmer()\n",
        "\n",
        "sl_result=[]\n",
        "for i in sl_lem:\n",
        "  sl_result.append(ps.stem(i))\n",
        "len(sl_result)"
      ],
      "metadata": {
        "colab": {
          "base_uri": "https://localhost:8080/"
        },
        "id": "HB92Ig5BMyny",
        "outputId": "4d9dcaa0-7cd4-493f-eb29-b6db528ab821"
      },
      "execution_count": 75,
      "outputs": [
        {
          "output_type": "execute_result",
          "data": {
            "text/plain": [
              "486507"
            ]
          },
          "metadata": {},
          "execution_count": 75
        }
      ]
    },
    {
      "cell_type": "code",
      "source": [
        "from nltk.corpus import stopwords\n",
        "special_char=[\",\",\":\",\" \",\";\",\".\",\"?\"]\n",
        "nltk.download('stopwords')"
      ],
      "metadata": {
        "colab": {
          "base_uri": "https://localhost:8080/"
        },
        "id": "qMHy-q329bv5",
        "outputId": "34d0e606-1bca-497d-d44f-6346278165c3"
      },
      "execution_count": 82,
      "outputs": [
        {
          "output_type": "stream",
          "name": "stderr",
          "text": [
            "[nltk_data] Downloading package stopwords to /root/nltk_data...\n",
            "[nltk_data]   Package stopwords is already up-to-date!\n"
          ]
        },
        {
          "output_type": "execute_result",
          "data": {
            "text/plain": [
              "True"
            ]
          },
          "metadata": {},
          "execution_count": 82
        }
      ]
    },
    {
      "cell_type": "code",
      "source": [
        "def vectorize(tokens):\n",
        "    vector=[]\n",
        "    for w in sl_result:\n",
        "      if w not in stopwords.words('english') and w not in special_char:\n",
        "        vector.append(tokens.count(w))\n",
        "    return vector\n",
        "\n",
        "\n",
        "print(sl_result[:10], vectorize(sl_result[:10])[:30], sep='\\n')"
      ],
      "metadata": {
        "colab": {
          "base_uri": "https://localhost:8080/"
        },
        "id": "DF4R-eu3Ux7e",
        "outputId": "35d78e1d-9d97-4132-d53f-18bb30ddf16a"
      },
      "execution_count": 83,
      "outputs": [
        {
          "output_type": "stream",
          "name": "stdout",
          "text": [
            "['верблюдов', '-', 'то', 'за', 'что', '?', 'дебилы', ',', 'бл', '...']\n",
            "[1, 1, 1, 1, 1, 1, 1, 1, 0, 0, 0, 0, 0, 0, 0, 0, 0, 0, 0, 0, 0, 0, 0, 0, 0, 0, 0, 0, 0, 0]\n"
          ]
        }
      ]
    },
    {
      "cell_type": "code",
      "source": [
        "stopwords.words('english')[:10]"
      ],
      "metadata": {
        "colab": {
          "base_uri": "https://localhost:8080/"
        },
        "id": "o096C0rEUiPj",
        "outputId": "9cb2914b-fa91-4378-9f44-068de46aecf5"
      },
      "execution_count": 84,
      "outputs": [
        {
          "output_type": "execute_result",
          "data": {
            "text/plain": [
              "['i', 'me', 'my', 'myself', 'we', 'our', 'ours', 'ourselves', 'you', \"you're\"]"
            ]
          },
          "metadata": {},
          "execution_count": 84
        }
      ]
    }
  ]
}