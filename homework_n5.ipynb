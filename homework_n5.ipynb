{
 "cells": [
  {
   "cell_type": "markdown",
   "metadata": {
    "id": "pDrecLU-4QjS"
   },
   "source": [
    "# Практика"
   ]
  },
  {
   "cell_type": "code",
   "execution_count": 286,
   "metadata": {
    "id": "a6XFMuQUG6jO"
   },
   "outputs": [],
   "source": [
    "import pandas as pd\n",
    "import numpy as np\n",
    "import matplotlib.pyplot as plt\n",
    "import scipy.stats as sts\n",
    "import math\n",
    "%matplotlib inline\n",
    "\n",
    "import statsmodels.stats.weightstats as ssw\n",
    "\n",
    "import seaborn as sns\n",
    "import os\n",
    "import requests\n",
    "import io\n",
    "import re"
   ]
  },
  {
   "cell_type": "markdown",
   "metadata": {
    "id": "5owLnS0MHJnz"
   },
   "source": [
    "## ЦПТ для различных распределений\n",
    "Возьмите то непрерывное распределение, которое вам больше всего понравится из списка доступных в модуле [scipy.stats](https://docs.scipy.org/doc/scipy/reference/stats.html)."
   ]
  },
  {
   "cell_type": "markdown",
   "metadata": {
    "id": "v1IvIGF9IRgH"
   },
   "source": [
    "### Сгенерируйте примеры из распределения"
   ]
  },
  {
   "cell_type": "code",
   "execution_count": 287,
   "metadata": {
    "colab": {
     "base_uri": "https://localhost:8080/",
     "height": 377
    },
    "id": "l4oTC1NSHvl7",
    "outputId": "52df1553-6d91-4452-9ade-e2a62a8d7ff2"
   },
   "outputs": [
    {
     "data": {
      "text/plain": [
       "array([0.95041037, 0.58655325, 0.98311013, 0.0027054 , 0.46366454])"
      ]
     },
     "execution_count": 287,
     "metadata": {},
     "output_type": "execute_result"
    }
   ],
   "source": [
    "# ваш код тут\n",
    "arcsin_rv = sts.arcsine()\n",
    "sample = arcsin_rv.rvs(100)\n",
    "\n",
    "# например вот такое распределение https://docs.scipy.org/doc/scipy/reference/generated/scipy.stats.cosine.html#scipy.stats.cosine\n",
    "#cosine_rv = sts.cosine()\n",
    "#sample = cosine_rv.rvs(100)\n",
    "\n",
    "sample[:5]"
   ]
  },
  {
   "cell_type": "code",
   "execution_count": 288,
   "metadata": {},
   "outputs": [
    {
     "data": {
      "text/plain": [
       "array([0.5  , 0.125])"
      ]
     },
     "execution_count": 288,
     "metadata": {},
     "output_type": "execute_result"
    }
   ],
   "source": [
    "mean, var, skew, kurt = arcsin_rv.stats(moments='mvsk')\n",
    "np.array([mean, var])"
   ]
  },
  {
   "cell_type": "code",
   "execution_count": 289,
   "metadata": {
    "colab": {
     "base_uri": "https://localhost:8080/",
     "height": 35
    },
    "id": "ScsjsI4oXgKR",
    "outputId": "86833794-f43b-436e-a0e4-c3b7483df016"
   },
   "outputs": [
    {
     "data": {
      "text/plain": [
       "dtype('float64')"
      ]
     },
     "execution_count": 289,
     "metadata": {},
     "output_type": "execute_result"
    }
   ],
   "source": [
    "sample.dtype"
   ]
  },
  {
   "cell_type": "code",
   "execution_count": 290,
   "metadata": {
    "id": "pXTNSqAOCYX4"
   },
   "outputs": [
    {
     "data": {
      "text/plain": [
       "0.5"
      ]
     },
     "execution_count": 290,
     "metadata": {},
     "output_type": "execute_result"
    }
   ],
   "source": [
    "real_mean = arcsin_rv.mean() # настоящее среднее случайной величины\n",
    "real_mean"
   ]
  },
  {
   "cell_type": "code",
   "execution_count": 291,
   "metadata": {
    "id": "5x4hFKaUCWSY"
   },
   "outputs": [
    {
     "data": {
      "text/plain": [
       "0.125"
      ]
     },
     "execution_count": 291,
     "metadata": {},
     "output_type": "execute_result"
    }
   ],
   "source": [
    "real_var = arcsin_rv.var() # настоящая дисперсия случайной величины\n",
    "real_var"
   ]
  },
  {
   "cell_type": "code",
   "execution_count": 292,
   "metadata": {},
   "outputs": [
    {
     "data": {
      "text/plain": [
       "[<matplotlib.lines.Line2D at 0x1d1b2193760>]"
      ]
     },
     "execution_count": 292,
     "metadata": {},
     "output_type": "execute_result"
    },
    {
     "data": {
      "image/png": "[encoded data removed]",
      "text/plain": [
       "<Figure size 432x288 with 1 Axes>"
      ]
     },
     "metadata": {
      "needs_background": "light"
     },
     "output_type": "display_data"
    }
   ],
   "source": [
    "fig, ax = plt.subplots(1, 1)\n",
    "\n",
    "x = np.linspace(arcsin_rv.ppf(0.01),\n",
    "                arcsin_rv.ppf(0.99), 100)\n",
    "ax.plot(x, arcsin_rv.pdf(x),\n",
    "       'r-', lw=3, alpha=0.6, label='arcsine pdf')"
   ]
  },
  {
   "cell_type": "markdown",
   "metadata": {
    "id": "4bNn15giIX77"
   },
   "source": [
    "### Постройте гистограмму выборки и теоретическую плотность распределения"
   ]
  },
  {
   "cell_type": "code",
   "execution_count": 293,
   "metadata": {},
   "outputs": [
    {
     "data": {
      "text/plain": [
       "[<matplotlib.lines.Line2D at 0x1d1b21fb9d0>]"
      ]
     },
     "execution_count": 293,
     "metadata": {},
     "output_type": "execute_result"
    },
    {
     "data": {
      "image/png": "[encoded data removed]",
      "text/plain": [
       "<Figure size 432x288 with 1 Axes>"
      ]
     },
     "metadata": {
      "needs_background": "light"
     },
     "output_type": "display_data"
    }
   ],
   "source": [
    "fig, ax = plt.subplots(1, 1)\n",
    "argus_rv = sts.argus(1)\n",
    "x = np.linspace(argus_rv.ppf(0.01),\n",
    "                argus_rv.ppf(0.99), 100)\n",
    "ax.plot(x, argus_rv.pdf(x),\n",
    "       'r-', lw=3, alpha=0.6, label='arcsine pdf')"
   ]
  },
  {
   "cell_type": "code",
   "execution_count": 294,
   "metadata": {
    "colab": {
     "base_uri": "https://localhost:8080/",
     "height": 283
    },
    "id": "CwbvqecvIcXN",
    "outputId": "ace01d5d-2552-499b-bc4f-1eb19166af83"
   },
   "outputs": [
    {
     "data": {
      "text/plain": [
       "<matplotlib.legend.Legend at 0x1d1b21a5360>"
      ]
     },
     "execution_count": 294,
     "metadata": {},
     "output_type": "execute_result"
    },
    {
     "data": {
      "image/png": "[encoded data removed]",
      "text/plain": [
       "<Figure size 432x288 with 1 Axes>"
      ]
     },
     "metadata": {
      "needs_background": "light"
     },
     "output_type": "display_data"
    }
   ],
   "source": [
    "# ваш код тут\n",
    "chi=1\n",
    "argus_rv = sts.argus(chi)\n",
    "sample = argus_rv.rvs(100)\n",
    "\n",
    "plt.hist(sample, density=True)\n",
    "#x = np.linspace(argus_rv.ppf(0.01), argus_rv.ppf(0.99), 100)\n",
    "x = np.linspace(0, 1, 100)\n",
    "\n",
    "pdf = argus_rv.pdf(x)\n",
    "plt.plot(x, pdf, label='теоретическая плотность', alpha=1)\n",
    "plt.legend()"
   ]
  },
  {
   "cell_type": "code",
   "execution_count": 295,
   "metadata": {
    "colab": {
     "base_uri": "https://localhost:8080/",
     "height": 51
    },
    "id": "rKd5XFelBqe7",
    "outputId": "32773b82-a3e9-46a2-b06d-a94d667d4f66"
   },
   "outputs": [
    {
     "name": "stdout",
     "output_type": "stream",
     "text": [
      "0.6679516747337574\n",
      "0.04064587215622604\n"
     ]
    }
   ],
   "source": [
    "sample_mean = sample.mean() # выборочное среднее\n",
    "print(sample_mean)\n",
    "sample_var = sample.var() # выборочная дисперсия\n",
    "print(sample_var)"
   ]
  },
  {
   "cell_type": "markdown",
   "metadata": {
    "id": "qPuHR68NId_Z"
   },
   "source": [
    "### Оценим распределение выборочного среднего для разных объёмов выборок\n",
    "Для этого постройте на одном полотне гистограмму выборочных средних и теоретическое распределение выборочных средних по ЦПТ для разных объёмов выборок.\n",
    "\n",
    "Для теоретического распределение используйте настоящие значения мат ожидания и дисперсии (не приближенные на основе выборки)."
   ]
  },
  {
   "cell_type": "code",
   "execution_count": 296,
   "metadata": {},
   "outputs": [
    {
     "data": {
      "text/plain": [
       "array([-0.84438606,  2.02985874,  0.96336223, -0.50996304,  0.51063194,\n",
       "        1.61992475, -0.93151446,  0.5178455 ,  0.77499989, -1.03596002])"
      ]
     },
     "execution_count": 296,
     "metadata": {},
     "output_type": "execute_result"
    }
   ],
   "source": [
    "c = 2.07\n",
    "dweibull = sts.dweibull(c)\n",
    "sample = dweibull.rvs(100)\n",
    "sample[:10]"
   ]
  },
  {
   "cell_type": "code",
   "execution_count": 297,
   "metadata": {},
   "outputs": [
    {
     "data": {
      "text/plain": [
       "[<matplotlib.lines.Line2D at 0x1d1b22ab7f0>]"
      ]
     },
     "execution_count": 297,
     "metadata": {},
     "output_type": "execute_result"
    },
    {
     "data": {
      "image/png": "[encoded data removed]",
      "text/plain": [
       "<Figure size 432x288 with 1 Axes>"
      ]
     },
     "metadata": {
      "needs_background": "light"
     },
     "output_type": "display_data"
    }
   ],
   "source": [
    "fig, ax = plt.subplots(1, 1)\n",
    "x = np.linspace(dweibull.ppf(0.01),\n",
    "                dweibull.ppf(0.99), 100)\n",
    "ax.plot(x, dweibull.pdf(x),\n",
    "       'r-', lw=3, alpha=0.6, label='arcsine pdf')"
   ]
  },
  {
   "cell_type": "code",
   "execution_count": 298,
   "metadata": {},
   "outputs": [
    {
     "name": "stdout",
     "output_type": "stream",
     "text": [
      "0.0 0.9861708479306039\n"
     ]
    }
   ],
   "source": [
    "mean, var, skew, kurt = dweibull.stats(moments='mvsk') #параметр \"c\" уже задан в sts.dweibull()\n",
    "print(mean, var)"
   ]
  },
  {
   "cell_type": "code",
   "execution_count": 345,
   "metadata": {
    "id": "_mB8upK7J58w"
   },
   "outputs": [
    {
     "data": {
      "text/plain": [
       "(array([1.22812593e-03, 2.45625187e-03, 2.45625187e-03, 0.00000000e+00,\n",
       "        1.22812593e-03, 2.45625187e-03, 1.22812593e-03, 4.91250374e-03,\n",
       "        4.91250374e-03, 1.22812593e-02, 9.82500748e-03, 1.47375112e-02,\n",
       "        7.36875561e-03, 1.59656371e-02, 1.10531334e-02, 2.08781409e-02,\n",
       "        2.45625187e-02, 2.70187706e-02, 3.07031484e-02, 4.05281558e-02,\n",
       "        6.50906745e-02, 7.24594301e-02, 7.12313042e-02, 8.47406895e-02,\n",
       "        1.03162578e-01, 9.57938229e-02, 1.32637601e-01, 1.57200120e-01,\n",
       "        1.89131394e-01, 1.65797001e-01, 2.11237661e-01, 2.88609595e-01,\n",
       "        2.83697091e-01, 2.98434602e-01, 3.54928395e-01, 3.74578410e-01,\n",
       "        4.40897210e-01, 4.50722218e-01, 5.61253552e-01, 6.15291093e-01,\n",
       "        6.91434901e-01, 7.47928694e-01, 8.68285036e-01, 8.78110043e-01,\n",
       "        9.96010133e-01, 1.05618830e+00, 1.15566650e+00, 1.23058219e+00,\n",
       "        1.35585103e+00, 1.41111670e+00, 1.57568557e+00, 1.69235754e+00,\n",
       "        1.67270752e+00, 1.81148575e+00, 2.01535466e+00, 2.12097349e+00,\n",
       "        2.08290158e+00, 2.17255478e+00, 2.34203616e+00, 2.39238932e+00,\n",
       "        2.41572371e+00, 2.53608005e+00, 2.68959580e+00, 2.64538326e+00,\n",
       "        2.73749271e+00, 2.64047076e+00, 2.98680227e+00, 2.79644275e+00,\n",
       "        2.90328971e+00, 2.83083028e+00, 2.77310836e+00, 2.82100527e+00,\n",
       "        2.74117709e+00, 2.76205523e+00, 2.77924899e+00, 2.64169888e+00,\n",
       "        2.60362698e+00, 2.54467694e+00, 2.55081757e+00, 2.36414242e+00,\n",
       "        2.30642050e+00, 2.25975172e+00, 2.09641097e+00, 2.02517967e+00,\n",
       "        1.98465151e+00, 1.81271388e+00, 1.80411700e+00, 1.78937949e+00,\n",
       "        1.58428246e+00, 1.43813547e+00, 1.36690417e+00, 1.22075718e+00,\n",
       "        1.17777277e+00, 1.13478836e+00, 9.29691332e-01, 8.95303806e-01,\n",
       "        8.31441258e-01, 7.83544346e-01, 6.90206775e-01, 6.25116101e-01,\n",
       "        5.84587945e-01, 5.19497270e-01, 4.64231603e-01, 3.94228425e-01,\n",
       "        3.88087795e-01, 3.13172113e-01, 2.91065846e-01, 2.68959580e-01,\n",
       "        2.27203298e-01, 2.12465787e-01, 1.90359520e-01, 1.41234482e-01,\n",
       "        1.33865727e-01, 9.45656970e-02, 7.73719339e-02, 8.84250673e-02,\n",
       "        6.87750523e-02, 4.17562818e-02, 3.93000299e-02, 2.45625187e-02,\n",
       "        4.54406596e-02, 3.19312743e-02, 2.82468965e-02, 1.22812593e-02,\n",
       "        1.71937631e-02, 1.35093853e-02, 1.47375112e-02, 6.14062967e-03,\n",
       "        6.14062967e-03, 4.91250374e-03, 2.45625187e-03, 7.36875561e-03,\n",
       "        4.91250374e-03, 4.91250374e-03, 0.00000000e+00, 0.00000000e+00,\n",
       "        0.00000000e+00, 1.22812593e-03, 1.22812593e-03, 0.00000000e+00,\n",
       "        1.22812593e-03, 0.00000000e+00, 0.00000000e+00, 0.00000000e+00,\n",
       "        1.22812593e-03, 0.00000000e+00, 0.00000000e+00, 1.22812593e-03]),\n",
       " array([-0.56595622, -0.55781373, -0.54967124, -0.54152876, -0.53338627,\n",
       "        -0.52524378, -0.51710129, -0.50895881, -0.50081632, -0.49267383,\n",
       "        -0.48453134, -0.47638886, -0.46824637, -0.46010388, -0.45196139,\n",
       "        -0.44381891, -0.43567642, -0.42753393, -0.41939144, -0.41124896,\n",
       "        -0.40310647, -0.39496398, -0.38682149, -0.37867901, -0.37053652,\n",
       "        -0.36239403, -0.35425154, -0.34610906, -0.33796657, -0.32982408,\n",
       "        -0.32168159, -0.31353911, -0.30539662, -0.29725413, -0.28911165,\n",
       "        -0.28096916, -0.27282667, -0.26468418, -0.2565417 , -0.24839921,\n",
       "        -0.24025672, -0.23211423, -0.22397175, -0.21582926, -0.20768677,\n",
       "        -0.19954428, -0.1914018 , -0.18325931, -0.17511682, -0.16697433,\n",
       "        -0.15883185, -0.15068936, -0.14254687, -0.13440438, -0.1262619 ,\n",
       "        -0.11811941, -0.10997692, -0.10183443, -0.09369195, -0.08554946,\n",
       "        -0.07740697, -0.06926448, -0.061122  , -0.05297951, -0.04483702,\n",
       "        -0.03669453, -0.02855205, -0.02040956, -0.01226707, -0.00412458,\n",
       "         0.0040179 ,  0.01216039,  0.02030288,  0.02844537,  0.03658785,\n",
       "         0.04473034,  0.05287283,  0.06101531,  0.0691578 ,  0.07730029,\n",
       "         0.08544278,  0.09358526,  0.10172775,  0.10987024,  0.11801273,\n",
       "         0.12615521,  0.1342977 ,  0.14244019,  0.15058268,  0.15872516,\n",
       "         0.16686765,  0.17501014,  0.18315263,  0.19129511,  0.1994376 ,\n",
       "         0.20758009,  0.21572258,  0.22386506,  0.23200755,  0.24015004,\n",
       "         0.24829253,  0.25643501,  0.2645775 ,  0.27271999,  0.28086248,\n",
       "         0.28900496,  0.29714745,  0.30528994,  0.31343243,  0.32157491,\n",
       "         0.3297174 ,  0.33785989,  0.34600238,  0.35414486,  0.36228735,\n",
       "         0.37042984,  0.37857233,  0.38671481,  0.3948573 ,  0.40299979,\n",
       "         0.41114227,  0.41928476,  0.42742725,  0.43556974,  0.44371222,\n",
       "         0.45185471,  0.4599972 ,  0.46813969,  0.47628217,  0.48442466,\n",
       "         0.49256715,  0.50070964,  0.50885212,  0.51699461,  0.5251371 ,\n",
       "         0.53327959,  0.54142207,  0.54956456,  0.55770705,  0.56584954,\n",
       "         0.57399202,  0.58213451,  0.590277  ,  0.59841949,  0.60656197,\n",
       "         0.61470446,  0.62284695,  0.63098944,  0.63913192]),\n",
       " [<matplotlib.patches.Polygon at 0x1d1b7f66710>])"
      ]
     },
     "execution_count": 345,
     "metadata": {},
     "output_type": "execute_result"
    },
    {
     "data": {
      "image/png": "[encoded data removed]",
      "text/plain": [
       "<Figure size 432x288 with 1 Axes>"
      ]
     },
     "metadata": {
      "needs_background": "light"
     },
     "output_type": "display_data"
    }
   ],
   "source": [
    "# ваш код тут\n",
    "N = 50\n",
    "NN = 100000\n",
    "# сгенерируем много выборочных средних\n",
    "means = []\n",
    "for i in range(NN):\n",
    "    means.append(np.mean(dweibull.rvs(N)))\n",
    "plt.hist(means, density=True, bins='auto', histtype='step')\n"
   ]
  },
  {
   "cell_type": "code",
   "execution_count": 300,
   "metadata": {},
   "outputs": [
    {
     "data": {
      "text/plain": [
       "<seaborn.axisgrid.FacetGrid at 0x1d1b2a85db0>"
      ]
     },
     "execution_count": 300,
     "metadata": {},
     "output_type": "execute_result"
    },
    {
     "data": {
      "image/png": "[encoded data removed]",
      "text/plain": [
       "<Figure size 360x360 with 1 Axes>"
      ]
     },
     "metadata": {
      "needs_background": "light"
     },
     "output_type": "display_data"
    },
    {
     "data": {
      "image/png": "[encoded data removed]",
      "text/plain": [
       "<Figure size 360x360 with 1 Axes>"
      ]
     },
     "metadata": {
      "needs_background": "light"
     },
     "output_type": "display_data"
    },
    {
     "data": {
      "image/png": "[encoded data removed]",
      "text/plain": [
       "<Figure size 360x360 with 1 Axes>"
      ]
     },
     "metadata": {
      "needs_background": "light"
     },
     "output_type": "display_data"
    }
   ],
   "source": [
    "sns.displot(means)\n",
    "sns.displot(means, kind='kde')\n",
    "sns.displot(means, kind='ecdf')"
   ]
  },
  {
   "cell_type": "code",
   "execution_count": 346,
   "metadata": {},
   "outputs": [
    {
     "data": {
      "text/plain": [
       "[<matplotlib.lines.Line2D at 0x1d1b9739570>]"
      ]
     },
     "execution_count": 346,
     "metadata": {},
     "output_type": "execute_result"
    },
    {
     "data": {
      "image/png": "[encoded data removed]",
      "text/plain": [
       "<Figure size 1152x648 with 1 Axes>"
      ]
     },
     "metadata": {
      "needs_background": "light"
     },
     "output_type": "display_data"
    }
   ],
   "source": [
    "plt.figure(figsize=(16,9))\n",
    "plt.axis([-0.6,0.6,0,3])\n",
    "plt.hist(means, density=True, bins='auto')\n",
    "\n",
    "norm_rv = sts.norm(mean, var/np.sqrt(N))\n",
    "plt.plot(x, norm_rv.pdf(x), label='теоретическая плотность', alpha=1)"
   ]
  },
  {
   "cell_type": "code",
   "execution_count": 342,
   "metadata": {},
   "outputs": [
    {
     "data": {
      "image/png": "[encoded data removed]",
      "text/plain": [
       "<Figure size 1152x648 with 1 Axes>"
      ]
     },
     "metadata": {
      "needs_background": "light"
     },
     "output_type": "display_data"
    }
   ],
   "source": [
    "plt.figure(figsize=(16,9))\n",
    "# сгенерируем много выборочных средних\n",
    "for N in [10, 100, 500]:\n",
    "    means = []\n",
    "    for i in range(10000):\n",
    "         means.append(np.mean(dweibull.rvs(N)))\n",
    "    plt.hist(means, density=True, bins='auto', alpha=0.5, label=f'{N}')\n",
    "    \n",
    "    x = np.linspace(dweibull.ppf(0.01), dweibull.ppf(0.99), 100)\n",
    "    norm_rv = sts.norm(mean, var/np.sqrt(N))\n",
    "    plt.plot(x, norm_rv.pdf(x), label=f'теор.пл-ть {N}', alpha=1)\n",
    "\n",
    "plt.legend()\n",
    "plt.show()"
   ]
  },
  {
   "cell_type": "markdown",
   "metadata": {
    "id": "TF1onBy_J7sX"
   },
   "source": [
    "Как вы считаете, для выбранного распределения апроксимация распределения выборочного среднего работает хорошо или плохо?\n",
    "**Ваш ответ:**"
   ]
  },
  {
   "cell_type": "markdown",
   "metadata": {
    "id": "1BEsK495KIuM"
   },
   "source": [
    "##### Хорошо. Теоретическая плотность распределения с N=50 (10, 100, 500) огибает выборочные"
   ]
  },
  {
   "cell_type": "markdown",
   "metadata": {
    "id": "xEyWxfjSfxGp"
   },
   "source": [
    "## Доверительный интервал на основе ЦПТ\n",
    "Возьмите данные для оттока телеком компании, и постройте доверительные интервалы для среднего значения total day calls, используя центральную предельную теорему в разбиении по колонке churn (ушел/не ушел). \n",
    "\n",
    "Для оценки дисперсии используйте несмещенную оценку (параметр ddof=1).\n",
    "\n",
    "Сделайте оценку с использованием явной формулы для z интервала, а затем с помощью функций \n",
    "`from statsmodels.stats.weightstats import _zconfint_generic`. Сравните результаты.\n",
    "\n",
    "\n",
    "Ссылка на данные: https://drive.google.com/file/d/1X_drKqoarnU2Sz2har7uSCsgyhh8Xtz8/view?usp=sharing"
   ]
  },
  {
   "cell_type": "code",
   "execution_count": 341,
   "metadata": {},
   "outputs": [
    {
     "name": "stdout",
     "output_type": "stream",
     "text": [
      "Доверительный интервал для среднего по цпт, если нам известна дисперсия: [-0.015660774082242916, 0.023267230898285987] \n",
      "Доверительный интервал для среднего по цпт интервальная оценка: (-0.015666575180711628, 0.0232730319967547) \n",
      "Доверительный интервал для среднего по цпт методом _zconfint_generic: (0.003180314589264206, 0.004426142226778867) \n"
     ]
    }
   ],
   "source": [
    "# Для инфо\n",
    "# Чем больше N, тем более узок дов.интервал из-за уменьшения дисперсии (стандартного отклонения) распределения средних\n",
    "N = 10000\n",
    "dweibull = sts.dweibull(2.07)\n",
    "data = dweibull.rvs(N)\n",
    "print(\"Доверительный интервал для среднего по цпт, если нам известна дисперсия: [{}, {}] \".format(\n",
    "    np.mean(data) - 1.96 * dweibull.std() / np.sqrt(N), np.mean(data) + 1.96 * dweibull.std() / np.sqrt(N) \n",
    "))\n",
    "print(\"Доверительный интервал для среднего по цпт интервальная оценка: {} \".format(\n",
    "    sts.norm.interval(alpha=0.95, loc=np.mean(data), \n",
    "                      scale=np.std(data, ddof=1)/np.sqrt(N)) # alternative 'two-sided' only\n",
    "))\n",
    "\n",
    "print(\"Доверительный интервал для среднего по цпт методом _zconfint_generic: {} \".format(\n",
    "    ssw._zconfint_generic(np.mean(data),  np.std(data, ddof=1)/np.sqrt(N), alpha=0.95, alternative='two-sided')\n",
    "))"
   ]
  },
  {
   "cell_type": "code",
   "execution_count": 304,
   "metadata": {},
   "outputs": [
    {
     "data": {
      "text/html": [
       "<div>\n",
       "<style scoped>\n",
       "    .dataframe tbody tr th:only-of-type {\n",
       "        vertical-align: middle;\n",
       "    }\n",
       "\n",
       "    .dataframe tbody tr th {\n",
       "        vertical-align: top;\n",
       "    }\n",
       "\n",
       "    .dataframe thead th {\n",
       "        text-align: right;\n",
       "    }\n",
       "</style>\n",
       "<table border=\"1\" class=\"dataframe\">\n",
       "  <thead>\n",
       "    <tr style=\"text-align: right;\">\n",
       "      <th></th>\n",
       "      <th>state</th>\n",
       "      <th>account length</th>\n",
       "      <th>area code</th>\n",
       "      <th>phone number</th>\n",
       "      <th>international plan</th>\n",
       "      <th>voice mail plan</th>\n",
       "      <th>number vmail messages</th>\n",
       "      <th>total day minutes</th>\n",
       "      <th>total day calls</th>\n",
       "      <th>total day charge</th>\n",
       "      <th>...</th>\n",
       "      <th>total eve calls</th>\n",
       "      <th>total eve charge</th>\n",
       "      <th>total night minutes</th>\n",
       "      <th>total night calls</th>\n",
       "      <th>total night charge</th>\n",
       "      <th>total intl minutes</th>\n",
       "      <th>total intl calls</th>\n",
       "      <th>total intl charge</th>\n",
       "      <th>customer service calls</th>\n",
       "      <th>churn</th>\n",
       "    </tr>\n",
       "  </thead>\n",
       "  <tbody>\n",
       "    <tr>\n",
       "      <th>3328</th>\n",
       "      <td>AZ</td>\n",
       "      <td>192</td>\n",
       "      <td>415</td>\n",
       "      <td>414-4276</td>\n",
       "      <td>no</td>\n",
       "      <td>yes</td>\n",
       "      <td>36</td>\n",
       "      <td>156.2</td>\n",
       "      <td>77</td>\n",
       "      <td>26.55</td>\n",
       "      <td>...</td>\n",
       "      <td>126</td>\n",
       "      <td>18.32</td>\n",
       "      <td>279.1</td>\n",
       "      <td>83</td>\n",
       "      <td>12.56</td>\n",
       "      <td>9.9</td>\n",
       "      <td>6</td>\n",
       "      <td>2.67</td>\n",
       "      <td>2</td>\n",
       "      <td>False</td>\n",
       "    </tr>\n",
       "    <tr>\n",
       "      <th>3329</th>\n",
       "      <td>WV</td>\n",
       "      <td>68</td>\n",
       "      <td>415</td>\n",
       "      <td>370-3271</td>\n",
       "      <td>no</td>\n",
       "      <td>no</td>\n",
       "      <td>0</td>\n",
       "      <td>231.1</td>\n",
       "      <td>57</td>\n",
       "      <td>39.29</td>\n",
       "      <td>...</td>\n",
       "      <td>55</td>\n",
       "      <td>13.04</td>\n",
       "      <td>191.3</td>\n",
       "      <td>123</td>\n",
       "      <td>8.61</td>\n",
       "      <td>9.6</td>\n",
       "      <td>4</td>\n",
       "      <td>2.59</td>\n",
       "      <td>3</td>\n",
       "      <td>False</td>\n",
       "    </tr>\n",
       "    <tr>\n",
       "      <th>3330</th>\n",
       "      <td>RI</td>\n",
       "      <td>28</td>\n",
       "      <td>510</td>\n",
       "      <td>328-8230</td>\n",
       "      <td>no</td>\n",
       "      <td>no</td>\n",
       "      <td>0</td>\n",
       "      <td>180.8</td>\n",
       "      <td>109</td>\n",
       "      <td>30.74</td>\n",
       "      <td>...</td>\n",
       "      <td>58</td>\n",
       "      <td>24.55</td>\n",
       "      <td>191.9</td>\n",
       "      <td>91</td>\n",
       "      <td>8.64</td>\n",
       "      <td>14.1</td>\n",
       "      <td>6</td>\n",
       "      <td>3.81</td>\n",
       "      <td>2</td>\n",
       "      <td>False</td>\n",
       "    </tr>\n",
       "    <tr>\n",
       "      <th>3331</th>\n",
       "      <td>CT</td>\n",
       "      <td>184</td>\n",
       "      <td>510</td>\n",
       "      <td>364-6381</td>\n",
       "      <td>yes</td>\n",
       "      <td>no</td>\n",
       "      <td>0</td>\n",
       "      <td>213.8</td>\n",
       "      <td>105</td>\n",
       "      <td>36.35</td>\n",
       "      <td>...</td>\n",
       "      <td>84</td>\n",
       "      <td>13.57</td>\n",
       "      <td>139.2</td>\n",
       "      <td>137</td>\n",
       "      <td>6.26</td>\n",
       "      <td>5.0</td>\n",
       "      <td>10</td>\n",
       "      <td>1.35</td>\n",
       "      <td>2</td>\n",
       "      <td>False</td>\n",
       "    </tr>\n",
       "    <tr>\n",
       "      <th>3332</th>\n",
       "      <td>TN</td>\n",
       "      <td>74</td>\n",
       "      <td>415</td>\n",
       "      <td>400-4344</td>\n",
       "      <td>no</td>\n",
       "      <td>yes</td>\n",
       "      <td>25</td>\n",
       "      <td>234.4</td>\n",
       "      <td>113</td>\n",
       "      <td>39.85</td>\n",
       "      <td>...</td>\n",
       "      <td>82</td>\n",
       "      <td>22.60</td>\n",
       "      <td>241.4</td>\n",
       "      <td>77</td>\n",
       "      <td>10.86</td>\n",
       "      <td>13.7</td>\n",
       "      <td>4</td>\n",
       "      <td>3.70</td>\n",
       "      <td>0</td>\n",
       "      <td>False</td>\n",
       "    </tr>\n",
       "  </tbody>\n",
       "</table>\n",
       "<p>5 rows × 21 columns</p>\n",
       "</div>"
      ],
      "text/plain": [
       "     state  account length  area code phone number international plan  \\\n",
       "3328    AZ             192        415     414-4276                 no   \n",
       "3329    WV              68        415     370-3271                 no   \n",
       "3330    RI              28        510     328-8230                 no   \n",
       "3331    CT             184        510     364-6381                yes   \n",
       "3332    TN              74        415     400-4344                 no   \n",
       "\n",
       "     voice mail plan  number vmail messages  total day minutes  \\\n",
       "3328             yes                     36              156.2   \n",
       "3329              no                      0              231.1   \n",
       "3330              no                      0              180.8   \n",
       "3331              no                      0              213.8   \n",
       "3332             yes                     25              234.4   \n",
       "\n",
       "      total day calls  total day charge  ...  total eve calls  \\\n",
       "3328               77             26.55  ...              126   \n",
       "3329               57             39.29  ...               55   \n",
       "3330              109             30.74  ...               58   \n",
       "3331              105             36.35  ...               84   \n",
       "3332              113             39.85  ...               82   \n",
       "\n",
       "      total eve charge  total night minutes  total night calls  \\\n",
       "3328             18.32                279.1                 83   \n",
       "3329             13.04                191.3                123   \n",
       "3330             24.55                191.9                 91   \n",
       "3331             13.57                139.2                137   \n",
       "3332             22.60                241.4                 77   \n",
       "\n",
       "      total night charge  total intl minutes  total intl calls  \\\n",
       "3328               12.56                 9.9                 6   \n",
       "3329                8.61                 9.6                 4   \n",
       "3330                8.64                14.1                 6   \n",
       "3331                6.26                 5.0                10   \n",
       "3332               10.86                13.7                 4   \n",
       "\n",
       "      total intl charge  customer service calls  churn  \n",
       "3328               2.67                       2  False  \n",
       "3329               2.59                       3  False  \n",
       "3330               3.81                       2  False  \n",
       "3331               1.35                       2  False  \n",
       "3332               3.70                       0  False  \n",
       "\n",
       "[5 rows x 21 columns]"
      ]
     },
     "execution_count": 304,
     "metadata": {},
     "output_type": "execute_result"
    }
   ],
   "source": [
    "url =\"https://raw.githubusercontent.com/piton1/DS/Lesson_5/telecom_churn.csv\"\n",
    "df=pd.read_csv(url)\n",
    "df.tail()"
   ]
  },
  {
   "cell_type": "code",
   "execution_count": 305,
   "metadata": {},
   "outputs": [
    {
     "data": {
      "text/plain": [
       "churn\n",
       "False    2850\n",
       "True      483\n",
       "Name: state, dtype: int64"
      ]
     },
     "execution_count": 305,
     "metadata": {},
     "output_type": "execute_result"
    }
   ],
   "source": [
    "# посчитали кол-во: ушел/ не ушел\n",
    "df.groupby('churn').agg('count').iloc[:,0]"
   ]
  },
  {
   "cell_type": "code",
   "execution_count": 306,
   "metadata": {},
   "outputs": [
    {
     "name": "stdout",
     "output_type": "stream",
     "text": [
      "100.28315789473685\n",
      "101.33540372670808\n"
     ]
    }
   ],
   "source": [
    "total_calls_stay = df[df.churn == False]['total day calls']\n",
    "total_calls_gone = df[df.churn == True]['total day calls']\n",
    "print(total_calls_stay.mean(), total_calls_gone.mean(), sep='\\n')"
   ]
  },
  {
   "cell_type": "code",
   "execution_count": 307,
   "metadata": {},
   "outputs": [
    {
     "data": {
      "text/plain": [
       "<matplotlib.legend.Legend at 0x1d1b23709a0>"
      ]
     },
     "execution_count": 307,
     "metadata": {},
     "output_type": "execute_result"
    },
    {
     "data": {
      "image/png": "[encoded data removed]",
      "text/plain": [
       "<Figure size 432x288 with 1 Axes>"
      ]
     },
     "metadata": {
      "needs_background": "light"
     },
     "output_type": "display_data"
    }
   ],
   "source": [
    "# На начальном этапе становится понятно, что нет сильной зависимости между total day calls и churn\n",
    "# Распределения не скошенные, можно применять ЦПТ\n",
    "plt.hist(total_calls_stay, density=True, bins='auto', histtype='step', label='ушли')\n",
    "plt.hist(total_calls_gone, density=True, bins='auto', histtype='step', label='ушли')\n",
    "plt.legend()"
   ]
  },
  {
   "cell_type": "code",
   "execution_count": 308,
   "metadata": {},
   "outputs": [
    {
     "name": "stdout",
     "output_type": "stream",
     "text": [
      "Доверительный интервал для среднего по цпт интервальная оценка: (99.55618833318324, 101.01012745629045) \n",
      "Доверительный интервал для среднего по цпт методом _zconfint_generic: (100.25989934548421, 100.30641644398948) \n"
     ]
    }
   ],
   "source": [
    "# Построим для примера доверительный интервал для среднего \"не ушел\" по всем значениям\n",
    "# Понятно, что из-за высокого N дов.интервал не информативен. Мы получили интервал 95% просто для огромного усреднения\n",
    "data = total_calls_stay\n",
    "\n",
    "print(\"Доверительный интервал для среднего по цпт интервальная оценка: {} \".format(\n",
    "    sts.norm.interval(alpha=0.95, loc=np.mean(data), \n",
    "    scale=np.std(data, ddof=1)/np.sqrt(len(data))) ))\n",
    "\n",
    "print(\"Доверительный интервал для среднего по цпт методом _zconfint_generic: {} \".format(\n",
    "    ssw._zconfint_generic(np.mean(data),  np.std(data, ddof=1)/np.sqrt(len(data)), alpha=0.95, alternative='two-sided') ))"
   ]
  },
  {
   "cell_type": "code",
   "execution_count": 309,
   "metadata": {},
   "outputs": [
    {
     "name": "stdout",
     "output_type": "stream",
     "text": [
      "[104.45, 101.95, 84.65, 99.45, 100.2, 106.4, 111.5, 95.8, 86.9, 98.2, 102.25, 102.3, 109.2, 101.1, 105.75, 101.05, 106.9, 100.7, 107.35, 98.1, 94.7, 102.35, 101.0, 108.4]\n",
      "24\n"
     ]
    }
   ],
   "source": [
    "# Создаем список из независимых средних \"ушел\"\n",
    "N = 20\n",
    "total_calls_gone_means = []\n",
    "\n",
    "for i in range(0, len(total_calls_gone)-N, N):\n",
    "    a = sum([total_calls_gone.iloc[i+j] for j in range(N)])/N\n",
    "    total_calls_gone_means.append(a)\n",
    "print(total_calls_gone_means)\n",
    "print(len(total_calls_gone_means))"
   ]
  },
  {
   "cell_type": "code",
   "execution_count": 310,
   "metadata": {},
   "outputs": [
    {
     "name": "stdout",
     "output_type": "stream",
     "text": [
      "[99.8, 94.7, 97.5, 96.8, 103.75, 105.35, 103.6, 104.7, 95.4, 102.5, 102.35, 101.3, 100.15, 104.05, 102.6, 103.3, 101.75, 97.1, 101.45, 106.6, 110.85, 103.65, 100.0, 94.65, 93.55, 94.8, 104.05, 99.9, 108.25, 99.0, 95.65, 107.0, 99.1, 101.85, 93.4, 100.95, 93.35, 107.35, 95.55, 98.0, 106.9, 96.9, 100.0, 99.8, 99.35, 97.4, 105.35, 102.3, 102.2, 92.4, 98.8, 94.65, 91.65, 97.25, 97.9, 100.15, 107.4, 106.4, 102.75, 105.3, 102.95, 92.2, 105.95, 108.05, 95.8, 103.45, 97.4, 96.85, 98.0, 101.0, 102.5, 100.85, 96.55, 99.05, 102.0, 98.75, 103.35, 96.85, 101.1, 97.65, 110.05, 99.8, 101.7, 105.9, 97.3, 98.1, 104.25, 102.5, 103.75, 102.7, 92.2, 91.75, 99.55, 94.25, 103.15, 99.45, 97.75, 102.3, 88.4, 98.6, 97.05, 96.55, 101.45, 95.85, 102.95, 104.5, 102.8, 100.3, 105.65, 104.0, 93.5, 100.7, 106.0, 110.5, 99.9, 89.6, 108.35, 110.25, 95.0, 103.85, 100.35, 100.7, 109.15, 91.6, 98.85, 95.3, 100.35, 92.4, 97.2, 103.35, 100.85, 92.45, 100.25, 102.8, 105.85, 100.9, 95.0, 103.85, 92.55, 97.0, 103.1, 102.6]\n"
     ]
    }
   ],
   "source": [
    "# Создаем список из независимых средних \"не ушел\"\n",
    "N = 20\n",
    "total_calls_stay_means = []\n",
    "\n",
    "for i in range(0, len(total_calls_stay)-N, N):\n",
    "    a = sum([total_calls_stay.iloc[i+j] for j in range(N)])/N\n",
    "    total_calls_stay_means.append(a)\n",
    "print(total_calls_stay_means)"
   ]
  },
  {
   "cell_type": "code",
   "execution_count": 311,
   "metadata": {},
   "outputs": [
    {
     "data": {
      "text/plain": [
       "<matplotlib.legend.Legend at 0x1d1b23bb550>"
      ]
     },
     "execution_count": 311,
     "metadata": {},
     "output_type": "execute_result"
    },
    {
     "data": {
      "image/png": "[encoded data removed]",
      "text/plain": [
       "<Figure size 432x288 with 1 Axes>"
      ]
     },
     "metadata": {
      "needs_background": "light"
     },
     "output_type": "display_data"
    }
   ],
   "source": [
    "# Проверим, достаточно ли данных для приближеия к норм.распределению. По \"ушел\" график рваный, т.к. выборка более ограничена\n",
    "plt.hist(total_calls_stay_means, density=True, bins='auto', histtype='step', label='не ушли')\n",
    "plt.hist(total_calls_gone_means, density=True, bins='auto', histtype='step', label='ушли')\n",
    "plt.legend()"
   ]
  },
  {
   "cell_type": "code",
   "execution_count": 312,
   "metadata": {},
   "outputs": [
    {
     "data": {
      "text/plain": [
       "<matplotlib.legend.Legend at 0x1d1b2406fb0>"
      ]
     },
     "execution_count": 312,
     "metadata": {},
     "output_type": "execute_result"
    },
    {
     "data": {
      "image/png": "[encoded data removed]",
      "text/plain": [
       "<Figure size 432x288 with 1 Axes>"
      ]
     },
     "metadata": {
      "needs_background": "light"
     },
     "output_type": "display_data"
    }
   ],
   "source": [
    "# Попробуем взять N=10 в виду малой выборки \"ушел\" для получения графика близкого к нормальному\n",
    "# Уже похоже на нормальные распределения, в т.ч. сгладилась правая ветка (синяя) выборочного распределения по средним \"не ушел\"\n",
    "N = 10\n",
    "total_calls_gone_means = []\n",
    "total_calls_stay_means = []\n",
    "\n",
    "for i in range(0, len(total_calls_gone)-N, N):\n",
    "    a = sum([total_calls_gone.iloc[i+j] for j in range(N)])/N\n",
    "    total_calls_gone_means.append(a)\n",
    "\n",
    "for i in range(0, len(total_calls_stay)-N, N):\n",
    "    a = sum([total_calls_stay.iloc[i+j] for j in range(N)])/N\n",
    "    total_calls_stay_means.append(a)\n",
    "\n",
    "plt.hist(total_calls_stay_means, density=True, bins='auto', histtype='step', label='не ушли')\n",
    "plt.hist(total_calls_gone_means, density=True, bins='auto', histtype='step', label='ушли')\n",
    "plt.legend()"
   ]
  },
  {
   "cell_type": "code",
   "execution_count": 313,
   "metadata": {},
   "outputs": [
    {
     "name": "stdout",
     "output_type": "stream",
     "text": [
      "100.28315789473685 101.33540372670808 19.801156951805293 21.58230721307551\n"
     ]
    }
   ],
   "source": [
    "mean_stay = np.mean(total_calls_stay)\n",
    "mean_gone = np.mean(total_calls_gone)\n",
    "std_stay = np.std(total_calls_stay, ddof=1)\n",
    "std_gone = np.std(total_calls_gone, ddof=1)\n",
    "print(mean_stay, mean_gone, std_stay, std_gone)"
   ]
  },
  {
   "cell_type": "code",
   "execution_count": 336,
   "metadata": {},
   "outputs": [
    {
     "name": "stdout",
     "output_type": "stream",
     "text": [
      "Доверительный интервал для среднего по цпт интервальная оценка: (94.79465806552581, 105.77165772394788) \n",
      "Доверительный интервал для среднего по цпт методом _zconfint_generic: (100.10755969867486, 100.45875609079883) \n"
     ]
    }
   ],
   "source": [
    "# Возьмем N=50 для интерпретируемого результата по ЦПТ, выборочное среднее\n",
    "  # и стандартное отклонение определяются по всем значениям \"ушел\"/\"не ушел\"\n",
    "# Доверительные интервалы для \"не ушел\"\n",
    "N = 50\n",
    "data = total_calls_stay\n",
    "\n",
    "print(\"Доверительный интервал для среднего по цпт интервальная оценка: {} \".format(\n",
    "    sts.norm.interval(alpha=0.95, loc=np.mean(data), \n",
    "    scale=np.std(data, ddof=1)/np.sqrt(N)) ))\n",
    "\n",
    "print(\"Доверительный интервал для среднего по цпт методом _zconfint_generic: {} \".format(\n",
    "    ssw._zconfint_generic(np.mean(data),  np.std(data, ddof=1)/np.sqrt(N), alpha=0.95, alternative='two-sided') ))"
   ]
  },
  {
   "cell_type": "code",
   "execution_count": 337,
   "metadata": {},
   "outputs": [
    {
     "name": "stdout",
     "output_type": "stream",
     "text": [
      "Доверительный интервал для среднего по цпт интервальная оценка: (95.35320330572988, 107.31760414768628) \n",
      "Доверительный интервал для среднего по цпт методом _zconfint_generic: (101.14401015194395, 101.52679730147221) \n"
     ]
    }
   ],
   "source": [
    "#Доверительные для \"ушел\"\n",
    "data = total_calls_gone\n",
    "\n",
    "print(\"Доверительный интервал для среднего по цпт интервальная оценка: {} \".format(\n",
    "    sts.norm.interval(alpha=0.95, loc=np.mean(data), \n",
    "    scale=np.std(data, ddof=1)/np.sqrt(N)) ))\n",
    "    \n",
    "print(\"Доверительный интервал для среднего по цпт методом _zconfint_generic: {} \".format(\n",
    "    ssw._zconfint_generic(np.mean(data),  np.std(data, ddof=1)/np.sqrt(N), alpha=0.95, alternative='two-sided') ))"
   ]
  },
  {
   "cell_type": "code",
   "execution_count": 338,
   "metadata": {},
   "outputs": [
    {
     "name": "stdout",
     "output_type": "stream",
     "text": [
      "Доверительный интервал для среднего по цпт интервальная оценка: (59.03485888580106, 143.63594856761512) \n",
      "Доверительный интервал для среднего по цпт методом _zconfint_generic: (99.98204678079553, 102.68876067262063) \n"
     ]
    }
   ],
   "source": [
    "#Осталось не ясно, почему если убрать деление станд.откл-я в формулах, то zconfint оценивает так же узко\n",
    "  # Дисперсия сильно растет, значит, по логике как и в явной функии дов.инт-л должен сильно расшириться\n",
    "  # В документации statsmodels ответа не нашел, логика работы statsmodels.stats.weightstats._zconfint_generic идентична \n",
    "data = total_calls_gone\n",
    "\n",
    "print(\"Доверительный интервал для среднего по цпт интервальная оценка: {} \".format(\n",
    "    sts.norm.interval(alpha=0.95, loc=np.mean(data), \n",
    "    scale=np.std(data, ddof=1)) ))\n",
    "    \n",
    "print(\"Доверительный интервал для среднего по цпт методом _zconfint_generic: {} \".format(\n",
    "    ssw._zconfint_generic(np.mean(data),  np.std(data, ddof=1), alpha=0.95, alternative='two-sided') ))"
   ]
  },
  {
   "cell_type": "markdown",
   "metadata": {},
   "source": [
    "### Вывод: Оценка дов. инт-лов с помощью явной функции более широкая. Открыт вопрос по логике работы zconfint"
   ]
  }
 ],
 "metadata": {
  "colab": {
   "collapsed_sections": [],
   "name": "Практика к занятию 12.ipynb",
   "provenance": []
  },
  "interpreter": {
   "hash": "8750a921b84a1b624817dbfae33fa28d408c1c697f0b181b4279f7947f553d12"
  },
  "kernelspec": {
   "display_name": "Python 3.10.4 64-bit",
   "language": "python",
   "name": "python3"
  },
  "language_info": {
   "codemirror_mode": {
    "name": "ipython",
    "version": 3
   },
   "file_extension": ".py",
   "mimetype": "text/x-python",
   "name": "python",
   "nbconvert_exporter": "python",
   "pygments_lexer": "ipython3",
   "version": "3.10.4"
  }
 },
 "nbformat": 4,
 "nbformat_minor": 1
}
