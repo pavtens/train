{
 "cells": [
  {
   "cell_type": "markdown",
   "metadata": {
    "id": "pDrecLU-4QjS"
   },
   "source": [
    "# Практика"
   ]
  },
  {
   "cell_type": "code",
   "execution_count": 1,
   "metadata": {
    "id": "a6XFMuQUG6jO"
   },
   "outputs": [],
   "source": [
    "import pandas as pd\n",
    "import numpy as np\n",
    "import matplotlib.pyplot as plt\n",
    "import scipy.stats as sts\n",
    "import math\n",
    "%matplotlib inline\n",
    "\n",
    "import statsmodels.stats.weightstats as ssw\n",
    "\n",
    "import seaborn as sns\n",
    "import os\n",
    "import requests\n",
    "import io\n",
    "import re"
   ]
  },
  {
   "cell_type": "markdown",
   "metadata": {
    "id": "5owLnS0MHJnz"
   },
   "source": [
    "## ЦПТ для различных распределений\n",
    "Возьмите то непрерывное распределение, которое вам больше всего понравится из списка доступных в модуле [scipy.stats](https://docs.scipy.org/doc/scipy/reference/stats.html)."
   ]
  },
  {
   "cell_type": "markdown",
   "metadata": {
    "id": "v1IvIGF9IRgH"
   },
   "source": [
    "### Сгенерируйте примеры из распределения"
   ]
  },
  {
   "cell_type": "code",
   "execution_count": 2,
   "metadata": {
    "colab": {
     "base_uri": "https://localhost:8080/",
     "height": 377
    },
    "id": "l4oTC1NSHvl7",
    "outputId": "52df1553-6d91-4452-9ade-e2a62a8d7ff2"
   },
   "outputs": [
    {
     "data": {
      "text/plain": [
       "array([0.76466806, 0.02146963, 0.8191616 , 0.73718986, 0.87724995])"
      ]
     },
     "execution_count": 2,
     "metadata": {},
     "output_type": "execute_result"
    }
   ],
   "source": [
    "# ваш код тут\n",
    "arcsin_rv = sts.arcsine()\n",
    "sample = arcsin_rv.rvs(100)\n",
    "\n",
    "# например вот такое распределение https://docs.scipy.org/doc/scipy/reference/generated/scipy.stats.cosine.html#scipy.stats.cosine\n",
    "#cosine_rv = sts.cosine()\n",
    "#sample = cosine_rv.rvs(100)\n",
    "\n",
    "sample[:5]"
   ]
  },
  {
   "cell_type": "code",
   "execution_count": 3,
   "metadata": {},
   "outputs": [
    {
     "data": {
      "text/plain": [
       "array([0.5  , 0.125])"
      ]
     },
     "execution_count": 3,
     "metadata": {},
     "output_type": "execute_result"
    }
   ],
   "source": [
    "mean, var, skew, kurt = arcsin_rv.stats(moments='mvsk')\n",
    "np.array([mean, var])"
   ]
  },
  {
   "cell_type": "code",
   "execution_count": 4,
   "metadata": {
    "colab": {
     "base_uri": "https://localhost:8080/",
     "height": 35
    },
    "id": "ScsjsI4oXgKR",
    "outputId": "86833794-f43b-436e-a0e4-c3b7483df016"
   },
   "outputs": [
    {
     "data": {
      "text/plain": [
       "dtype('float64')"
      ]
     },
     "execution_count": 4,
     "metadata": {},
     "output_type": "execute_result"
    }
   ],
   "source": [
    "sample.dtype"
   ]
  },
  {
   "cell_type": "code",
   "execution_count": 5,
   "metadata": {
    "id": "pXTNSqAOCYX4"
   },
   "outputs": [
    {
     "data": {
      "text/plain": [
       "0.5"
      ]
     },
     "execution_count": 5,
     "metadata": {},
     "output_type": "execute_result"
    }
   ],
   "source": [
    "real_mean = arcsin_rv.mean() # настоящее среднее случайной величины\n",
    "real_mean"
   ]
  },
  {
   "cell_type": "code",
   "execution_count": 6,
   "metadata": {
    "id": "5x4hFKaUCWSY"
   },
   "outputs": [
    {
     "data": {
      "text/plain": [
       "0.125"
      ]
     },
     "execution_count": 6,
     "metadata": {},
     "output_type": "execute_result"
    }
   ],
   "source": [
    "real_var = arcsin_rv.var() # настоящая дисперсия случайной величины\n",
    "real_var"
   ]
  },
  {
   "cell_type": "code",
   "execution_count": 7,
   "metadata": {},
   "outputs": [
    {
     "data": {
      "text/plain": [
       "[<matplotlib.lines.Line2D at 0x234e01d54e0>]"
      ]
     },
     "execution_count": 7,
     "metadata": {},
     "output_type": "execute_result"
    },
    {
     "data": {
      "image/png": "[encoded data removed]",
      "text/plain": [
       "<Figure size 432x288 with 1 Axes>"
      ]
     },
     "metadata": {
      "needs_background": "light"
     },
     "output_type": "display_data"
    }
   ],
   "source": [
    "fig, ax = plt.subplots(1, 1)\n",
    "\n",
    "x = np.linspace(arcsin_rv.ppf(0.01),\n",
    "                arcsin_rv.ppf(0.99), 100)\n",
    "ax.plot(x, arcsin_rv.pdf(x),\n",
    "       'r-', lw=3, alpha=0.6, label='arcsine pdf')"
   ]
  },
  {
   "cell_type": "markdown",
   "metadata": {
    "id": "4bNn15giIX77"
   },
   "source": [
    "### Постройте гистограмму выборки и теоретическую плотность распределения"
   ]
  },
  {
   "cell_type": "code",
   "execution_count": 8,
   "metadata": {},
   "outputs": [
    {
     "data": {
      "text/plain": [
       "[<matplotlib.lines.Line2D at 0x234e22c3d00>]"
      ]
     },
     "execution_count": 8,
     "metadata": {},
     "output_type": "execute_result"
    },
    {
     "data": {
      "image/png": "[encoded data removed]",
      "text/plain": [
       "<Figure size 432x288 with 1 Axes>"
      ]
     },
     "metadata": {
      "needs_background": "light"
     },
     "output_type": "display_data"
    }
   ],
   "source": [
    "fig, ax = plt.subplots(1, 1)\n",
    "argus_rv = sts.argus(1)\n",
    "x = np.linspace(argus_rv.ppf(0.01),\n",
    "                argus_rv.ppf(0.99), 100)\n",
    "ax.plot(x, argus_rv.pdf(x),\n",
    "       'r-', lw=3, alpha=0.6, label='arcsine pdf')"
   ]
  },
  {
   "cell_type": "code",
   "execution_count": 9,
   "metadata": {
    "colab": {
     "base_uri": "https://localhost:8080/",
     "height": 283
    },
    "id": "CwbvqecvIcXN",
    "outputId": "ace01d5d-2552-499b-bc4f-1eb19166af83"
   },
   "outputs": [
    {
     "data": {
      "text/plain": [
       "<matplotlib.legend.Legend at 0x234e012b790>"
      ]
     },
     "execution_count": 9,
     "metadata": {},
     "output_type": "execute_result"
    },
    {
     "data": {
      "image/png": "[encoded data removed]",
      "text/plain": [
       "<Figure size 432x288 with 1 Axes>"
      ]
     },
     "metadata": {
      "needs_background": "light"
     },
     "output_type": "display_data"
    }
   ],
   "source": [
    "# ваш код тут\n",
    "chi=1\n",
    "argus_rv = sts.argus(chi)\n",
    "sample = argus_rv.rvs(100)\n",
    "\n",
    "plt.hist(sample, density=True)\n",
    "#x = np.linspace(argus_rv.ppf(0.01), argus_rv.ppf(0.99), 100)\n",
    "x = np.linspace(0, 1, 100)\n",
    "\n",
    "pdf = argus_rv.pdf(x)\n",
    "plt.plot(x, pdf, label='теоретическая плотность', alpha=1)\n",
    "plt.legend()"
   ]
  },
  {
   "cell_type": "code",
   "execution_count": 10,
   "metadata": {
    "colab": {
     "base_uri": "https://localhost:8080/",
     "height": 51
    },
    "id": "rKd5XFelBqe7",
    "outputId": "32773b82-a3e9-46a2-b06d-a94d667d4f66"
   },
   "outputs": [
    {
     "name": "stdout",
     "output_type": "stream",
     "text": [
      "0.6405572107678448\n",
      "0.057005601759604826\n"
     ]
    }
   ],
   "source": [
    "sample_mean = sample.mean() # выборочное среднее\n",
    "print(sample_mean)\n",
    "sample_var = sample.var() # выборочная дисперсия\n",
    "print(sample_var)"
   ]
  },
  {
   "cell_type": "markdown",
   "metadata": {
    "id": "qPuHR68NId_Z"
   },
   "source": [
    "### Оценим распределение выборочного среднего для разных объёмов выборок\n",
    "Для этого постройте на одном полотне гистограмму выборочных средних и теоретическое распределение выборочных средних по ЦПТ для разных объёмов выборок.\n",
    "\n",
    "Для теоретического распределение используйте настоящие значения мат ожидания и дисперсии (не приближенные на основе выборки)."
   ]
  },
  {
   "cell_type": "code",
   "execution_count": 11,
   "metadata": {},
   "outputs": [
    {
     "data": {
      "text/plain": [
       "array([ 1.31841386, -1.60878865, -0.77667935, -0.36584003, -1.12413581,\n",
       "       -1.46277161,  1.4598022 , -1.78164016, -1.15726575, -1.73618511])"
      ]
     },
     "execution_count": 11,
     "metadata": {},
     "output_type": "execute_result"
    }
   ],
   "source": [
    "c = 2.07\n",
    "dweibull = sts.dweibull(c)\n",
    "sample = dweibull.rvs(100)\n",
    "sample[:10]"
   ]
  },
  {
   "cell_type": "code",
   "execution_count": 12,
   "metadata": {},
   "outputs": [
    {
     "data": {
      "text/plain": [
       "[<matplotlib.lines.Line2D at 0x234e23e4280>]"
      ]
     },
     "execution_count": 12,
     "metadata": {},
     "output_type": "execute_result"
    },
    {
     "data": {
      "image/png": "[encoded data removed]",
      "text/plain": [
       "<Figure size 432x288 with 1 Axes>"
      ]
     },
     "metadata": {
      "needs_background": "light"
     },
     "output_type": "display_data"
    }
   ],
   "source": [
    "fig, ax = plt.subplots(1, 1)\n",
    "x = np.linspace(dweibull.ppf(0.01),\n",
    "                dweibull.ppf(0.99), 100)\n",
    "ax.plot(x, dweibull.pdf(x),\n",
    "       'r-', lw=3, alpha=0.6, label='arcsine pdf')"
   ]
  },
  {
   "cell_type": "code",
   "execution_count": 13,
   "metadata": {},
   "outputs": [
    {
     "name": "stdout",
     "output_type": "stream",
     "text": [
      "0.0 0.9861708479306039\n"
     ]
    }
   ],
   "source": [
    "mean, var, skew, kurt = dweibull.stats(moments='mvsk') #параметр \"c\" уже задан в sts.dweibull()\n",
    "print(mean, var)"
   ]
  },
  {
   "cell_type": "code",
   "execution_count": 14,
   "metadata": {
    "id": "_mB8upK7J58w"
   },
   "outputs": [
    {
     "data": {
      "text/plain": [
       "(array([1.22469688e-03, 2.44939375e-03, 2.44939375e-03, 1.22469688e-03,\n",
       "        2.44939375e-03, 3.67409063e-03, 4.89878750e-03, 2.44939375e-03,\n",
       "        3.67409063e-03, 9.79757501e-03, 4.89878750e-03, 1.34716656e-02,\n",
       "        2.32692406e-02, 9.79757501e-03, 1.71457563e-02, 3.06174219e-02,\n",
       "        2.57186344e-02, 3.91903000e-02, 3.79656032e-02, 5.87854500e-02,\n",
       "        7.83806001e-02, 8.08299938e-02, 8.57287813e-02, 8.81781751e-02,\n",
       "        9.06275688e-02, 1.22469688e-01, 1.31042566e-01, 1.67783472e-01,\n",
       "        1.97176197e-01, 2.04524378e-01, 2.55961647e-01, 3.13522400e-01,\n",
       "        3.39241035e-01, 3.52712700e-01, 4.04149969e-01, 4.94777538e-01,\n",
       "        5.02125719e-01, 5.36417232e-01, 6.27044801e-01, 6.77257372e-01,\n",
       "        7.60536760e-01, 8.90354629e-01, 9.60162351e-01, 9.83431591e-01,\n",
       "        1.10957537e+00, 1.14264219e+00, 1.27368475e+00, 1.36798641e+00,\n",
       "        1.48310792e+00, 1.54189337e+00, 1.66068896e+00, 1.70355335e+00,\n",
       "        1.86766274e+00, 1.94359394e+00, 2.07218711e+00, 2.20812847e+00,\n",
       "        2.30732891e+00, 2.38448482e+00, 2.39918118e+00, 2.57186344e+00,\n",
       "        2.55716708e+00, 2.60370556e+00, 2.71882706e+00, 2.73352343e+00,\n",
       "        2.78618539e+00, 2.82782509e+00, 2.73964691e+00, 2.79475827e+00,\n",
       "        2.79353357e+00, 2.79108418e+00, 2.83517327e+00, 2.77516312e+00,\n",
       "        2.83517327e+00, 2.64289586e+00, 2.63677237e+00, 2.51920147e+00,\n",
       "        2.54492011e+00, 2.46409011e+00, 2.39550709e+00, 2.30487952e+00,\n",
       "        2.13709605e+00, 2.06483893e+00, 2.03912030e+00, 1.93747046e+00,\n",
       "        1.81622547e+00, 1.70110396e+00, 1.62027397e+00, 1.58965655e+00,\n",
       "        1.40227792e+00, 1.33491959e+00, 1.24796612e+00, 1.16591143e+00,\n",
       "        1.06303689e+00, 1.04099234e+00, 8.51164329e-01, 8.45040844e-01,\n",
       "        7.96052969e-01, 6.88279644e-01, 5.87854500e-01, 5.41316019e-01,\n",
       "        5.05799810e-01, 4.48239057e-01, 3.87004213e-01, 3.58836185e-01,\n",
       "        2.97601341e-01, 3.01275431e-01, 2.55961647e-01, 2.14321953e-01,\n",
       "        1.72682260e-01, 1.64109381e-01, 1.18795597e-01, 1.12672113e-01,\n",
       "        1.07773325e-01, 8.69534782e-02, 8.20546907e-02, 6.98077219e-02,\n",
       "        6.12348438e-02, 4.77631782e-02, 3.91903000e-02, 4.40890875e-02,\n",
       "        2.44939375e-02, 2.20445438e-02, 2.32692406e-02, 1.95951500e-02,\n",
       "        6.12348438e-03, 9.79757501e-03, 4.89878750e-03, 8.57287813e-03,\n",
       "        6.12348438e-03, 4.89878750e-03, 2.44939375e-03, 3.67409063e-03,\n",
       "        0.00000000e+00, 1.22469688e-03, 2.44939375e-03, 0.00000000e+00,\n",
       "        2.44939375e-03, 1.22469688e-03, 1.22469688e-03, 1.22469688e-03]),\n",
       " array([-0.55762104, -0.54945575, -0.54129047, -0.53312518, -0.52495989,\n",
       "        -0.51679461, -0.50862932, -0.50046404, -0.49229875, -0.48413347,\n",
       "        -0.47596818, -0.46780289, -0.45963761, -0.45147232, -0.44330704,\n",
       "        -0.43514175, -0.42697647, -0.41881118, -0.41064589, -0.40248061,\n",
       "        -0.39431532, -0.38615004, -0.37798475, -0.36981946, -0.36165418,\n",
       "        -0.35348889, -0.34532361, -0.33715832, -0.32899304, -0.32082775,\n",
       "        -0.31266246, -0.30449718, -0.29633189, -0.28816661, -0.28000132,\n",
       "        -0.27183604, -0.26367075, -0.25550546, -0.24734018, -0.23917489,\n",
       "        -0.23100961, -0.22284432, -0.21467903, -0.20651375, -0.19834846,\n",
       "        -0.19018318, -0.18201789, -0.17385261, -0.16568732, -0.15752203,\n",
       "        -0.14935675, -0.14119146, -0.13302618, -0.12486089, -0.11669561,\n",
       "        -0.10853032, -0.10036503, -0.09219975, -0.08403446, -0.07586918,\n",
       "        -0.06770389, -0.0595386 , -0.05137332, -0.04320803, -0.03504275,\n",
       "        -0.02687746, -0.01871218, -0.01054689, -0.0023816 ,  0.00578368,\n",
       "         0.01394897,  0.02211425,  0.03027954,  0.03844482,  0.04661011,\n",
       "         0.0547754 ,  0.06294068,  0.07110597,  0.07927125,  0.08743654,\n",
       "         0.09560183,  0.10376711,  0.1119324 ,  0.12009768,  0.12826297,\n",
       "         0.13642825,  0.14459354,  0.15275883,  0.16092411,  0.1690894 ,\n",
       "         0.17725468,  0.18541997,  0.19358525,  0.20175054,  0.20991583,\n",
       "         0.21808111,  0.2262464 ,  0.23441168,  0.24257697,  0.25074226,\n",
       "         0.25890754,  0.26707283,  0.27523811,  0.2834034 ,  0.29156868,\n",
       "         0.29973397,  0.30789926,  0.31606454,  0.32422983,  0.33239511,\n",
       "         0.3405604 ,  0.34872568,  0.35689097,  0.36505626,  0.37322154,\n",
       "         0.38138683,  0.38955211,  0.3977174 ,  0.40588269,  0.41404797,\n",
       "         0.42221326,  0.43037854,  0.43854383,  0.44670911,  0.4548744 ,\n",
       "         0.46303969,  0.47120497,  0.47937026,  0.48753554,  0.49570083,\n",
       "         0.50386611,  0.5120314 ,  0.52019669,  0.52836197,  0.53652726,\n",
       "         0.54469254,  0.55285783,  0.56102312,  0.5691884 ,  0.57735369,\n",
       "         0.58551897]),\n",
       " [<matplotlib.patches.Polygon at 0x234e273bd90>])"
      ]
     },
     "execution_count": 14,
     "metadata": {},
     "output_type": "execute_result"
    },
    {
     "data": {
      "image/png": "[encoded data removed]",
      "text/plain": [
       "<Figure size 432x288 with 1 Axes>"
      ]
     },
     "metadata": {
      "needs_background": "light"
     },
     "output_type": "display_data"
    }
   ],
   "source": [
    "# ваш код тут\n",
    "N = 50\n",
    "NN = 100000\n",
    "# сгенерируем много выборочных средних\n",
    "means = []\n",
    "for i in range(NN):\n",
    "    means.append(np.mean(dweibull.rvs(N)))\n",
    "plt.hist(means, density=True, bins='auto', histtype='step')\n"
   ]
  },
  {
   "cell_type": "code",
   "execution_count": 15,
   "metadata": {},
   "outputs": [
    {
     "data": {
      "text/plain": [
       "<seaborn.axisgrid.FacetGrid at 0x234e287b490>"
      ]
     },
     "execution_count": 15,
     "metadata": {},
     "output_type": "execute_result"
    },
    {
     "data": {
      "image/png": "[encoded data removed]",
      "text/plain": [
       "<Figure size 360x360 with 1 Axes>"
      ]
     },
     "metadata": {
      "needs_background": "light"
     },
     "output_type": "display_data"
    },
    {
     "data": {
      "image/png": "[encoded data removed]",
      "text/plain": [
       "<Figure size 360x360 with 1 Axes>"
      ]
     },
     "metadata": {
      "needs_background": "light"
     },
     "output_type": "display_data"
    },
    {
     "data": {
      "image/png": "[encoded data removed]",
      "text/plain": [
       "<Figure size 360x360 with 1 Axes>"
      ]
     },
     "metadata": {
      "needs_background": "light"
     },
     "output_type": "display_data"
    }
   ],
   "source": [
    "sns.displot(means)\n",
    "sns.displot(means, kind='kde')\n",
    "sns.displot(means, kind='ecdf')"
   ]
  },
  {
   "cell_type": "code",
   "execution_count": 16,
   "metadata": {},
   "outputs": [
    {
     "data": {
      "text/plain": [
       "[<matplotlib.lines.Line2D at 0x234e755cdf0>]"
      ]
     },
     "execution_count": 16,
     "metadata": {},
     "output_type": "execute_result"
    },
    {
     "data": {
      "image/png": "[encoded data removed]",
      "text/plain": [
       "<Figure size 1152x648 with 1 Axes>"
      ]
     },
     "metadata": {
      "needs_background": "light"
     },
     "output_type": "display_data"
    }
   ],
   "source": [
    "plt.figure(figsize=(16,9))\n",
    "plt.axis([-0.6,0.6,0,3])\n",
    "plt.hist(means, density=True, bins='auto')\n",
    "\n",
    "norm_rv = sts.norm(mean, var/np.sqrt(N))\n",
    "plt.plot(x, norm_rv.pdf(x), label='теоретическая плотность', alpha=1)"
   ]
  },
  {
   "cell_type": "code",
   "execution_count": 17,
   "metadata": {},
   "outputs": [
    {
     "data": {
      "image/png": "[encoded data removed]",
      "text/plain": [
       "<Figure size 1152x648 with 1 Axes>"
      ]
     },
     "metadata": {
      "needs_background": "light"
     },
     "output_type": "display_data"
    }
   ],
   "source": [
    "plt.figure(figsize=(16,9))\n",
    "# сгенерируем много выборочных средних\n",
    "for N in [10, 100, 500]:\n",
    "    means = []\n",
    "    for i in range(10000):\n",
    "         means.append(np.mean(dweibull.rvs(N)))\n",
    "    plt.hist(means, density=True, bins='auto', alpha=0.5, label=f'{N}')\n",
    "    \n",
    "    x = np.linspace(dweibull.ppf(0.01), dweibull.ppf(0.99), 100)\n",
    "    norm_rv = sts.norm(mean, var/np.sqrt(N))\n",
    "    plt.plot(x, norm_rv.pdf(x), label=f'теор.пл-ть {N}', alpha=1)\n",
    "\n",
    "plt.legend()\n",
    "plt.show()"
   ]
  },
  {
   "cell_type": "markdown",
   "metadata": {
    "id": "TF1onBy_J7sX"
   },
   "source": [
    "Как вы считаете, для выбранного распределения апроксимация распределения выборочного среднего работает хорошо или плохо?\n",
    "**Ваш ответ:**"
   ]
  },
  {
   "cell_type": "markdown",
   "metadata": {
    "id": "1BEsK495KIuM"
   },
   "source": [
    "##### Хорошо. Теоретическая плотность распределения с N=50 (10, 100, 500) огибает выборочные"
   ]
  },
  {
   "cell_type": "markdown",
   "metadata": {
    "id": "xEyWxfjSfxGp"
   },
   "source": [
    "## Доверительный интервал на основе ЦПТ\n",
    "Возьмите данные для оттока телеком компании, и постройте доверительные интервалы для среднего значения total day calls, используя центральную предельную теорему в разбиении по колонке churn (ушел/не ушел). \n",
    "\n",
    "Для оценки дисперсии используйте несмещенную оценку (параметр ddof=1).\n",
    "\n",
    "Сделайте оценку с использованием явной формулы для z интервала, а затем с помощью функций \n",
    "`from statsmodels.stats.weightstats import _zconfint_generic`. Сравните результаты.\n",
    "\n",
    "\n",
    "Ссылка на данные: https://drive.google.com/file/d/1X_drKqoarnU2Sz2har7uSCsgyhh8Xtz8/view?usp=sharing"
   ]
  },
  {
   "cell_type": "code",
   "execution_count": 18,
   "metadata": {},
   "outputs": [
    {
     "name": "stdout",
     "output_type": "stream",
     "text": [
      "Доверительный интервал для среднего по цпт, если нам известна дисперсия: [-0.03732628376719423, 0.0016017212133346802] \n",
      "Доверительный интервал для среднего по цпт интервальная оценка: (-0.0371951957171586, 0.0014706331632990573) \n",
      "Доверительный интервал для среднего по цпт методом _zconfint_generic: (-0.018480815485905595, -0.01724374706795395) \n"
     ]
    }
   ],
   "source": [
    "# Для инфо\n",
    "# Чем больше N, тем более узок дов.интервал из-за уменьшения дисперсии (стандартного отклонения) распределения средних\n",
    "N = 10000\n",
    "dweibull = sts.dweibull(2.07)\n",
    "data = dweibull.rvs(N)\n",
    "print(\"Доверительный интервал для среднего по цпт, если нам известна дисперсия: [{}, {}] \".format(\n",
    "    np.mean(data) - 1.96 * dweibull.std() / np.sqrt(N), np.mean(data) + 1.96 * dweibull.std() / np.sqrt(N) \n",
    "))\n",
    "print(\"Доверительный интервал для среднего по цпт интервальная оценка: {} \".format(\n",
    "    sts.norm.interval(alpha=0.95, loc=np.mean(data), \n",
    "                      scale=np.std(data, ddof=1)/np.sqrt(N)) # alternative 'two-sided' only\n",
    "))\n",
    "\n",
    "print(\"Доверительный интервал для среднего по цпт методом _zconfint_generic: {} \".format(\n",
    "    ssw._zconfint_generic(np.mean(data),  np.std(data, ddof=1)/np.sqrt(N), alpha=0.95, alternative='two-sided')\n",
    "))"
   ]
  },
  {
   "cell_type": "code",
   "execution_count": 19,
   "metadata": {},
   "outputs": [
    {
     "data": {
      "text/html": [
       "<div>\n",
       "<style scoped>\n",
       "    .dataframe tbody tr th:only-of-type {\n",
       "        vertical-align: middle;\n",
       "    }\n",
       "\n",
       "    .dataframe tbody tr th {\n",
       "        vertical-align: top;\n",
       "    }\n",
       "\n",
       "    .dataframe thead th {\n",
       "        text-align: right;\n",
       "    }\n",
       "</style>\n",
       "<table border=\"1\" class=\"dataframe\">\n",
       "  <thead>\n",
       "    <tr style=\"text-align: right;\">\n",
       "      <th></th>\n",
       "      <th>state</th>\n",
       "      <th>account length</th>\n",
       "      <th>area code</th>\n",
       "      <th>phone number</th>\n",
       "      <th>international plan</th>\n",
       "      <th>voice mail plan</th>\n",
       "      <th>number vmail messages</th>\n",
       "      <th>total day minutes</th>\n",
       "      <th>total day calls</th>\n",
       "      <th>total day charge</th>\n",
       "      <th>...</th>\n",
       "      <th>total eve calls</th>\n",
       "      <th>total eve charge</th>\n",
       "      <th>total night minutes</th>\n",
       "      <th>total night calls</th>\n",
       "      <th>total night charge</th>\n",
       "      <th>total intl minutes</th>\n",
       "      <th>total intl calls</th>\n",
       "      <th>total intl charge</th>\n",
       "      <th>customer service calls</th>\n",
       "      <th>churn</th>\n",
       "    </tr>\n",
       "  </thead>\n",
       "  <tbody>\n",
       "    <tr>\n",
       "      <th>3328</th>\n",
       "      <td>AZ</td>\n",
       "      <td>192</td>\n",
       "      <td>415</td>\n",
       "      <td>414-4276</td>\n",
       "      <td>no</td>\n",
       "      <td>yes</td>\n",
       "      <td>36</td>\n",
       "      <td>156.2</td>\n",
       "      <td>77</td>\n",
       "      <td>26.55</td>\n",
       "      <td>...</td>\n",
       "      <td>126</td>\n",
       "      <td>18.32</td>\n",
       "      <td>279.1</td>\n",
       "      <td>83</td>\n",
       "      <td>12.56</td>\n",
       "      <td>9.9</td>\n",
       "      <td>6</td>\n",
       "      <td>2.67</td>\n",
       "      <td>2</td>\n",
       "      <td>False</td>\n",
       "    </tr>\n",
       "    <tr>\n",
       "      <th>3329</th>\n",
       "      <td>WV</td>\n",
       "      <td>68</td>\n",
       "      <td>415</td>\n",
       "      <td>370-3271</td>\n",
       "      <td>no</td>\n",
       "      <td>no</td>\n",
       "      <td>0</td>\n",
       "      <td>231.1</td>\n",
       "      <td>57</td>\n",
       "      <td>39.29</td>\n",
       "      <td>...</td>\n",
       "      <td>55</td>\n",
       "      <td>13.04</td>\n",
       "      <td>191.3</td>\n",
       "      <td>123</td>\n",
       "      <td>8.61</td>\n",
       "      <td>9.6</td>\n",
       "      <td>4</td>\n",
       "      <td>2.59</td>\n",
       "      <td>3</td>\n",
       "      <td>False</td>\n",
       "    </tr>\n",
       "    <tr>\n",
       "      <th>3330</th>\n",
       "      <td>RI</td>\n",
       "      <td>28</td>\n",
       "      <td>510</td>\n",
       "      <td>328-8230</td>\n",
       "      <td>no</td>\n",
       "      <td>no</td>\n",
       "      <td>0</td>\n",
       "      <td>180.8</td>\n",
       "      <td>109</td>\n",
       "      <td>30.74</td>\n",
       "      <td>...</td>\n",
       "      <td>58</td>\n",
       "      <td>24.55</td>\n",
       "      <td>191.9</td>\n",
       "      <td>91</td>\n",
       "      <td>8.64</td>\n",
       "      <td>14.1</td>\n",
       "      <td>6</td>\n",
       "      <td>3.81</td>\n",
       "      <td>2</td>\n",
       "      <td>False</td>\n",
       "    </tr>\n",
       "    <tr>\n",
       "      <th>3331</th>\n",
       "      <td>CT</td>\n",
       "      <td>184</td>\n",
       "      <td>510</td>\n",
       "      <td>364-6381</td>\n",
       "      <td>yes</td>\n",
       "      <td>no</td>\n",
       "      <td>0</td>\n",
       "      <td>213.8</td>\n",
       "      <td>105</td>\n",
       "      <td>36.35</td>\n",
       "      <td>...</td>\n",
       "      <td>84</td>\n",
       "      <td>13.57</td>\n",
       "      <td>139.2</td>\n",
       "      <td>137</td>\n",
       "      <td>6.26</td>\n",
       "      <td>5.0</td>\n",
       "      <td>10</td>\n",
       "      <td>1.35</td>\n",
       "      <td>2</td>\n",
       "      <td>False</td>\n",
       "    </tr>\n",
       "    <tr>\n",
       "      <th>3332</th>\n",
       "      <td>TN</td>\n",
       "      <td>74</td>\n",
       "      <td>415</td>\n",
       "      <td>400-4344</td>\n",
       "      <td>no</td>\n",
       "      <td>yes</td>\n",
       "      <td>25</td>\n",
       "      <td>234.4</td>\n",
       "      <td>113</td>\n",
       "      <td>39.85</td>\n",
       "      <td>...</td>\n",
       "      <td>82</td>\n",
       "      <td>22.60</td>\n",
       "      <td>241.4</td>\n",
       "      <td>77</td>\n",
       "      <td>10.86</td>\n",
       "      <td>13.7</td>\n",
       "      <td>4</td>\n",
       "      <td>3.70</td>\n",
       "      <td>0</td>\n",
       "      <td>False</td>\n",
       "    </tr>\n",
       "  </tbody>\n",
       "</table>\n",
       "<p>5 rows × 21 columns</p>\n",
       "</div>"
      ],
      "text/plain": [
       "     state  account length  area code phone number international plan  \\\n",
       "3328    AZ             192        415     414-4276                 no   \n",
       "3329    WV              68        415     370-3271                 no   \n",
       "3330    RI              28        510     328-8230                 no   \n",
       "3331    CT             184        510     364-6381                yes   \n",
       "3332    TN              74        415     400-4344                 no   \n",
       "\n",
       "     voice mail plan  number vmail messages  total day minutes  \\\n",
       "3328             yes                     36              156.2   \n",
       "3329              no                      0              231.1   \n",
       "3330              no                      0              180.8   \n",
       "3331              no                      0              213.8   \n",
       "3332             yes                     25              234.4   \n",
       "\n",
       "      total day calls  total day charge  ...  total eve calls  \\\n",
       "3328               77             26.55  ...              126   \n",
       "3329               57             39.29  ...               55   \n",
       "3330              109             30.74  ...               58   \n",
       "3331              105             36.35  ...               84   \n",
       "3332              113             39.85  ...               82   \n",
       "\n",
       "      total eve charge  total night minutes  total night calls  \\\n",
       "3328             18.32                279.1                 83   \n",
       "3329             13.04                191.3                123   \n",
       "3330             24.55                191.9                 91   \n",
       "3331             13.57                139.2                137   \n",
       "3332             22.60                241.4                 77   \n",
       "\n",
       "      total night charge  total intl minutes  total intl calls  \\\n",
       "3328               12.56                 9.9                 6   \n",
       "3329                8.61                 9.6                 4   \n",
       "3330                8.64                14.1                 6   \n",
       "3331                6.26                 5.0                10   \n",
       "3332               10.86                13.7                 4   \n",
       "\n",
       "      total intl charge  customer service calls  churn  \n",
       "3328               2.67                       2  False  \n",
       "3329               2.59                       3  False  \n",
       "3330               3.81                       2  False  \n",
       "3331               1.35                       2  False  \n",
       "3332               3.70                       0  False  \n",
       "\n",
       "[5 rows x 21 columns]"
      ]
     },
     "execution_count": 19,
     "metadata": {},
     "output_type": "execute_result"
    }
   ],
   "source": [
    "url =\"https://raw.githubusercontent.com/piton1/DS/Lesson_5/telecom_churn.csv\"\n",
    "df=pd.read_csv(url)\n",
    "df.tail()"
   ]
  },
  {
   "cell_type": "code",
   "execution_count": 20,
   "metadata": {},
   "outputs": [
    {
     "data": {
      "text/plain": [
       "churn\n",
       "False    2850\n",
       "True      483\n",
       "Name: state, dtype: int64"
      ]
     },
     "execution_count": 20,
     "metadata": {},
     "output_type": "execute_result"
    }
   ],
   "source": [
    "# посчитали кол-во: ушел/ не ушел\n",
    "df.groupby('churn').agg('count').iloc[:,0]"
   ]
  },
  {
   "cell_type": "code",
   "execution_count": 21,
   "metadata": {},
   "outputs": [
    {
     "name": "stdout",
     "output_type": "stream",
     "text": [
      "100.28315789473685\n",
      "101.33540372670808\n"
     ]
    }
   ],
   "source": [
    "total_calls_stay = df[df.churn == False]['total day calls']\n",
    "total_calls_gone = df[df.churn == True]['total day calls']\n",
    "print(total_calls_stay.mean(), total_calls_gone.mean(), sep='\\n')"
   ]
  },
  {
   "cell_type": "code",
   "execution_count": 22,
   "metadata": {},
   "outputs": [
    {
     "data": {
      "text/plain": [
       "<matplotlib.legend.Legend at 0x234e2584430>"
      ]
     },
     "execution_count": 22,
     "metadata": {},
     "output_type": "execute_result"
    },
    {
     "data": {
      "image/png": "[encoded data removed]",
      "text/plain": [
       "<Figure size 432x288 with 1 Axes>"
      ]
     },
     "metadata": {
      "needs_background": "light"
     },
     "output_type": "display_data"
    }
   ],
   "source": [
    "# На начальном этапе становится понятно, что нет сильной зависимости между total day calls и churn\n",
    "# Распределения не скошенные, можно применять ЦПТ\n",
    "plt.hist(total_calls_stay, density=True, bins='auto', histtype='step', label='ушли')\n",
    "plt.hist(total_calls_gone, density=True, bins='auto', histtype='step', label='не ушли')\n",
    "plt.legend()"
   ]
  },
  {
   "cell_type": "code",
   "execution_count": 23,
   "metadata": {},
   "outputs": [
    {
     "name": "stdout",
     "output_type": "stream",
     "text": [
      "Доверительный интервал для среднего по цпт интервальная оценка: (99.55618833318324, 101.01012745629045) \n",
      "Доверительный интервал для среднего по цпт методом _zconfint_generic: (100.25989934548421, 100.30641644398948) \n"
     ]
    }
   ],
   "source": [
    "# Построим для примера доверительный интервал для среднего \"не ушел\" по всем значениям\n",
    "# Понятно, что из-за высокого N дов.интервал не информативен. Мы получили интервал 95% просто для огромного усреднения\n",
    "data = total_calls_stay\n",
    "\n",
    "print(\"Доверительный интервал для среднего по цпт интервальная оценка: {} \".format(\n",
    "    sts.norm.interval(alpha=0.95, loc=np.mean(data), \n",
    "    scale=np.std(data, ddof=1)/np.sqrt(len(data))) ))\n",
    "\n",
    "print(\"Доверительный интервал для среднего по цпт методом _zconfint_generic: {} \".format(\n",
    "    ssw._zconfint_generic(np.mean(data),  np.std(data, ddof=1)/np.sqrt(len(data)), alpha=0.95, alternative='two-sided') ))"
   ]
  },
  {
   "cell_type": "code",
   "execution_count": 49,
   "metadata": {},
   "outputs": [
    {
     "name": "stdout",
     "output_type": "stream",
     "text": [
      "[104.45, 101.95, 84.65, 99.45, 100.2, 106.4, 111.5, 95.8, 86.9, 98.2, 102.25, 102.3, 109.2, 101.1, 105.75, 101.05, 106.9, 100.7, 107.35, 98.1, 94.7, 102.35, 101.0, 108.4]\n",
      "24\n"
     ]
    }
   ],
   "source": [
    "# Создаем список из независимых средних \"ушел\"\n",
    "N = 20\n",
    "total_calls_gone_means = []\n",
    "\n",
    "for i in range(0, len(total_calls_gone)-N, N):\n",
    "    a = sum([total_calls_gone.iloc[i+j] for j in range(N)])/N\n",
    "    total_calls_gone_means.append(a)\n",
    "print(total_calls_gone_means)\n",
    "print(len(total_calls_gone_means))"
   ]
  },
  {
   "cell_type": "code",
   "execution_count": 61,
   "metadata": {},
   "outputs": [
    {
     "name": "stdout",
     "output_type": "stream",
     "text": [
      "[99.8, 94.7, 97.5, 96.8, 103.75, 105.35, 103.6, 104.7, 95.4, 102.5, 102.35, 101.3, 100.15, 104.05, 102.6, 103.3, 101.75, 97.1, 101.45, 106.6, 110.85, 103.65, 100.0, 94.65, 93.55, 94.8, 104.05, 99.9, 108.25, 99.0, 95.65, 107.0, 99.1, 101.85, 93.4, 100.95, 93.35, 107.35, 95.55, 98.0, 106.9, 96.9, 100.0, 99.8, 99.35, 97.4, 105.35, 102.3, 102.2, 92.4, 98.8, 94.65, 91.65, 97.25, 97.9, 100.15, 107.4, 106.4, 102.75, 105.3, 102.95, 92.2, 105.95, 108.05, 95.8, 103.45, 97.4, 96.85, 98.0, 101.0, 102.5, 100.85, 96.55, 99.05, 102.0, 98.75, 103.35, 96.85, 101.1, 97.65, 110.05, 99.8, 101.7, 105.9, 97.3, 98.1, 104.25, 102.5, 103.75, 102.7, 92.2, 91.75, 99.55, 94.25, 103.15, 99.45, 97.75, 102.3, 88.4, 98.6, 97.05, 96.55, 101.45, 95.85, 102.95, 104.5, 102.8, 100.3, 105.65, 104.0, 93.5, 100.7, 106.0, 110.5, 99.9, 89.6, 108.35, 110.25, 95.0, 103.85, 100.35, 100.7, 109.15, 91.6, 98.85, 95.3, 100.35, 92.4, 97.2, 103.35, 100.85, 92.45, 100.25, 102.8, 105.85, 100.9, 95.0, 103.85, 92.55, 97.0, 103.1, 102.6]\n",
      "CPU times: total: 31.2 ms\n",
      "Wall time: 27 ms\n"
     ]
    }
   ],
   "source": [
    "%%time\n",
    "# Создаем список из независимых средних \"не ушел\"\n",
    "N = 20\n",
    "total_calls_stay_means = []\n",
    "\n",
    "for i in range(0, len(total_calls_stay)-N, N):\n",
    "    a = sum([total_calls_stay.iloc[i+j] for j in range(N)])/N\n",
    "    total_calls_stay_means.append(a)\n",
    "print(total_calls_stay_means)"
   ]
  },
  {
   "cell_type": "code",
   "execution_count": 44,
   "metadata": {},
   "outputs": [
    {
     "name": "stdout",
     "output_type": "stream",
     "text": [
      "[[], 104.45, [], 101.95, [], 84.65, [], 99.45, [], 100.2, [], 106.4, [], 111.5, [], 95.8, [], 86.9, [], 98.2, [], 102.25, [], 102.3, [], 109.2, [], 101.1, [], 105.75, [], 101.05, [], 106.9, [], 100.7, [], 107.35, [], 98.1, [], 94.7, [], 102.35, [], 101.0, [], 108.4]\n",
      "48\n"
     ]
    }
   ],
   "source": [
    "# Создаем список из независимых средних \"ушел\"\n",
    "N = 20\n",
    "total_calls_gone_means = []\n",
    "\n",
    "for i in range(0, len(total_calls_gone)-N, N):\n",
    "    total_calls_gone_means.append([])\n",
    "    a = sum([total_calls_gone.iloc[i+j] for j in range(N)])/N\n",
    "    total_calls_gone_means.append(a)\n",
    "print(total_calls_gone_means)\n",
    "print(len(total_calls_gone_means))"
   ]
  },
  {
   "cell_type": "code",
   "execution_count": 65,
   "metadata": {},
   "outputs": [
    {
     "name": "stdout",
     "output_type": "stream",
     "text": [
      "[99.8, 94.7, 97.5, 96.8, 103.75, 105.35, 103.6, 104.7, 95.4, 102.5, 102.35, 101.3, 100.15, 104.05, 102.6, 103.3, 101.75, 97.1, 101.45, 106.6, 110.85, 103.65, 100.0, 94.65, 93.55, 94.8, 104.05, 99.9, 108.25, 99.0, 95.65, 107.0, 99.1, 101.85, 93.4, 100.95, 93.35, 107.35, 95.55, 98.0, 106.9, 96.9, 100.0, 99.8, 99.35, 97.4, 105.35, 102.3, 102.2, 92.4, 98.8, 94.65, 91.65, 97.25, 97.9, 100.15, 107.4, 106.4, 102.75, 105.3, 102.95, 92.2, 105.95, 108.05, 95.8, 103.45, 97.4, 96.85, 98.0, 101.0, 102.5, 100.85, 96.55, 99.05, 102.0, 98.75, 103.35, 96.85, 101.1, 97.65, 110.05, 99.8, 101.7, 105.9, 97.3, 98.1, 104.25, 102.5, 103.75, 102.7, 92.2, 91.75, 99.55, 94.25, 103.15, 99.45, 97.75, 102.3, 88.4, 98.6, 97.05, 96.55, 101.45, 95.85, 102.95, 104.5, 102.8, 100.3, 105.65, 104.0, 93.5, 100.7, 106.0, 110.5, 99.9, 89.6, 108.35, 110.25, 95.0, 103.85, 100.35, 100.7, 109.15, 91.6, 98.85, 95.3, 100.35, 92.4, 97.2, 103.35, 100.85, 92.45, 100.25, 102.8, 105.85, 100.9, 95.0, 103.85, 92.55, 97.0, 103.1, 102.6]\n",
      "142\n",
      "CPU times: total: 31.2 ms\n",
      "Wall time: 20 ms\n"
     ]
    }
   ],
   "source": [
    "%%time\n",
    "# Более компактный способ смежрить независимые средние\n",
    "abc = [total_calls_stay[i:i+N].sum()/N for i in range(0, len(total_calls_stay)-N, N)]\n",
    "print(abc)\n",
    "print(len(abc))\n"
   ]
  },
  {
   "cell_type": "code",
   "execution_count": 26,
   "metadata": {},
   "outputs": [
    {
     "data": {
      "text/plain": [
       "<matplotlib.legend.Legend at 0x234e24d3100>"
      ]
     },
     "execution_count": 26,
     "metadata": {},
     "output_type": "execute_result"
    },
    {
     "data": {
      "image/png": "[encoded data removed]",
      "text/plain": [
       "<Figure size 432x288 with 1 Axes>"
      ]
     },
     "metadata": {
      "needs_background": "light"
     },
     "output_type": "display_data"
    }
   ],
   "source": [
    "# Проверим, достаточно ли данных для приближеия к норм.распределению. По \"ушел\" график рваный, т.к. выборка более ограничена\n",
    "plt.hist(total_calls_stay_means, density=True, bins='auto', histtype='step', label='не ушли')\n",
    "plt.hist(total_calls_gone_means, density=True, bins='auto', histtype='step', label='ушли')\n",
    "plt.legend()"
   ]
  },
  {
   "cell_type": "code",
   "execution_count": 27,
   "metadata": {},
   "outputs": [
    {
     "data": {
      "text/plain": [
       "<matplotlib.legend.Legend at 0x234e75cf550>"
      ]
     },
     "execution_count": 27,
     "metadata": {},
     "output_type": "execute_result"
    },
    {
     "data": {
      "image/png": "[encoded data removed]",
      "text/plain": [
       "<Figure size 432x288 with 1 Axes>"
      ]
     },
     "metadata": {
      "needs_background": "light"
     },
     "output_type": "display_data"
    }
   ],
   "source": [
    "# Попробуем взять N=10 в виду малой выборки \"ушел\" для получения графика близкого к нормальному\n",
    "# Уже похоже на нормальные распределения, в т.ч. сгладилась правая ветка (синяя) выборочного распределения по средним \"не ушел\"\n",
    "N = 10\n",
    "total_calls_gone_means = []\n",
    "total_calls_stay_means = []\n",
    "\n",
    "for i in range(0, len(total_calls_gone)-N, N):\n",
    "    a = sum([total_calls_gone.iloc[i+j] for j in range(N)])/N\n",
    "    total_calls_gone_means.append(a)\n",
    "\n",
    "for i in range(0, len(total_calls_stay)-N, N):\n",
    "    a = sum([total_calls_stay.iloc[i+j] for j in range(N)])/N\n",
    "    total_calls_stay_means.append(a)\n",
    "\n",
    "plt.hist(total_calls_stay_means, density=True, bins='auto', histtype='step', label='не ушли')\n",
    "plt.hist(total_calls_gone_means, density=True, bins='auto', histtype='step', label='ушли')\n",
    "plt.legend()"
   ]
  },
  {
   "cell_type": "code",
   "execution_count": 28,
   "metadata": {},
   "outputs": [
    {
     "name": "stdout",
     "output_type": "stream",
     "text": [
      "100.28315789473685 101.33540372670808 19.801156951805293 21.58230721307551\n"
     ]
    }
   ],
   "source": [
    "mean_stay = np.mean(total_calls_stay)\n",
    "mean_gone = np.mean(total_calls_gone)\n",
    "std_stay = np.std(total_calls_stay, ddof=1)\n",
    "std_gone = np.std(total_calls_gone, ddof=1)\n",
    "print(mean_stay, mean_gone, std_stay, std_gone)"
   ]
  },
  {
   "cell_type": "code",
   "execution_count": 29,
   "metadata": {},
   "outputs": [
    {
     "name": "stdout",
     "output_type": "stream",
     "text": [
      "Доверительный интервал для среднего по цпт интервальная оценка: (94.79465806552581, 105.77165772394788) \n",
      "Доверительный интервал для среднего по цпт методом _zconfint_generic: (100.10755969867486, 100.45875609079883) \n"
     ]
    }
   ],
   "source": [
    "# Возьмем N=50 для интерпретируемого результата по ЦПТ, выборочное среднее\n",
    "  # и стандартное отклонение определяются по всем значениям \"ушел\"/\"не ушел\"\n",
    "# Доверительные интервалы для \"не ушел\"\n",
    "N = 50\n",
    "data = total_calls_stay\n",
    "\n",
    "print(\"Доверительный интервал для среднего по цпт интервальная оценка: {} \".format(\n",
    "    sts.norm.interval(alpha=0.95, loc=np.mean(data), \n",
    "    scale=np.std(data, ddof=1)/np.sqrt(N)) ))\n",
    "\n",
    "print(\"Доверительный интервал для среднего по цпт методом _zconfint_generic: {} \".format(\n",
    "    ssw._zconfint_generic(np.mean(data),  np.std(data, ddof=1)/np.sqrt(N), alpha=0.95, alternative='two-sided') ))"
   ]
  },
  {
   "cell_type": "code",
   "execution_count": 30,
   "metadata": {},
   "outputs": [
    {
     "name": "stdout",
     "output_type": "stream",
     "text": [
      "Доверительный интервал для среднего по цпт интервальная оценка: (95.35320330572988, 107.31760414768628) \n",
      "Доверительный интервал для среднего по цпт методом _zconfint_generic: (101.14401015194395, 101.52679730147221) \n"
     ]
    }
   ],
   "source": [
    "#Доверительные для \"ушел\"\n",
    "data = total_calls_gone\n",
    "\n",
    "print(\"Доверительный интервал для среднего по цпт интервальная оценка: {} \".format(\n",
    "    sts.norm.interval(alpha=0.95, loc=np.mean(data), \n",
    "    scale=np.std(data, ddof=1)/np.sqrt(N)) ))\n",
    "    \n",
    "print(\"Доверительный интервал для среднего по цпт методом _zconfint_generic: {} \".format(\n",
    "    ssw._zconfint_generic(np.mean(data),  np.std(data, ddof=1)/np.sqrt(N), alpha=0.95, alternative='two-sided') ))"
   ]
  },
  {
   "cell_type": "code",
   "execution_count": 31,
   "metadata": {},
   "outputs": [
    {
     "name": "stdout",
     "output_type": "stream",
     "text": [
      "Доверительный интервал для среднего по цпт интервальная оценка: (59.03485888580106, 143.63594856761512) \n",
      "Доверительный интервал для среднего по цпт методом _zconfint_generic: (99.98204678079553, 102.68876067262063) \n"
     ]
    }
   ],
   "source": [
    "#Осталось не ясно, почему если убрать деление станд.откл-я в формулах, то zconfint оценивает так же узко\n",
    "  # Дисперсия сильно растет, значит, по логике как и в явной функии дов.инт-л должен сильно расшириться\n",
    "  # В документации statsmodels ответа не нашел, логика работы statsmodels.stats.weightstats._zconfint_generic идентична \n",
    "data = total_calls_gone\n",
    "\n",
    "print(\"Доверительный интервал для среднего по цпт интервальная оценка: {} \".format(\n",
    "    sts.norm.interval(alpha=0.95, loc=np.mean(data), \n",
    "    scale=np.std(data, ddof=1)) ))\n",
    "    \n",
    "print(\"Доверительный интервал для среднего по цпт методом _zconfint_generic: {} \".format(\n",
    "    ssw._zconfint_generic(np.mean(data),  np.std(data, ddof=1), alpha=0.95, alternative='two-sided') ))"
   ]
  },
  {
   "cell_type": "markdown",
   "metadata": {},
   "source": [
    "### Вывод: Оценка дов. инт-лов с помощью явной функции более широкая. Открыт вопрос по логике работы zconfint"
   ]
  }
 ],
 "metadata": {
  "colab": {
   "collapsed_sections": [],
   "name": "Практика к занятию 12.ipynb",
   "provenance": []
  },
  "interpreter": {
   "hash": "8750a921b84a1b624817dbfae33fa28d408c1c697f0b181b4279f7947f553d12"
  },
  "kernelspec": {
   "display_name": "Python 3.10.4 64-bit",
   "language": "python",
   "name": "python3"
  },
  "language_info": {
   "codemirror_mode": {
    "name": "ipython",
    "version": 3
   },
   "file_extension": ".py",
   "mimetype": "text/x-python",
   "name": "python",
   "nbconvert_exporter": "python",
   "pygments_lexer": "ipython3",
   "version": "3.10.4"
  }
 },
 "nbformat": 4,
 "nbformat_minor": 1
}
